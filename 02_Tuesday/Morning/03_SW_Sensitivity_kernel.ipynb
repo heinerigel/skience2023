{
 "cells": [
  {
   "cell_type": "code",
   "execution_count": null,
   "id": "7bf4daab",
   "metadata": {
    "tags": []
   },
   "outputs": [],
   "source": [
    "from IPython.core.display import display, HTML\n",
    "display(HTML(\"<style>.container { width:80% !important; }</style>\")) \n",
    "from IPython.core.interactiveshell import InteractiveShell\n",
    "InteractiveShell.ast_node_interactivity = \"last_expr\"\n",
    "import warnings\n",
    "warnings.filterwarnings('ignore')\n",
    "\n",
    "import matplotlib.pylab as plt\n",
    "import pandas as pd\n",
    "import numpy as np\n",
    "from disba import GroupDispersion\n",
    "from disba import GroupSensitivity\n",
    "import matplotlib\n",
    "plt.rcParams['figure.figsize'] = (16,8)"
   ]
  },
  {
   "cell_type": "markdown",
   "id": "79d30425",
   "metadata": {},
   "source": [
    "# Extracting the surface wave sensitivity kernel\n",
    "\n",
    "In this notebook, we are using a 1D velocity to extract the sensitivy kernel of the Surface Waves at the frequencies analized in previous notebooks. They provide an estimate of the sampled depth corresponding to to the variations you observed.\n"
   ]
  },
  {
   "cell_type": "markdown",
   "id": "fbe7f340-8068-4c6b-8d07-7f05cd38691f",
   "metadata": {},
   "source": [
    "This can typically be done using the [Computer Program in Seismology codes (CPS)](https://www.eas.slu.edu/eqc/eqccps.html) (Herrmann, 2013). Instead we are using [disba](https://github.com/keurfonluu/disba), a computationally efficient Python library that implements a subset of codes from CPS compiled with numba.\n",
    "\n",
    "As you will see, disba is a fast and lightweigh way to model surface wave dispersion"
   ]
  },
  {
   "cell_type": "code",
   "execution_count": null,
   "id": "77a22144",
   "metadata": {
    "tags": []
   },
   "outputs": [],
   "source": [
    "model = pd.read_pickle(\"DATA/Cali_model.pkl\")"
   ]
  },
  {
   "cell_type": "markdown",
   "id": "ad981f0e",
   "metadata": {},
   "source": [
    "This is a 1D velocity model extracted from the Southern California Velocity Model ([CVMH v15.1.1](https://www.iris.washington.edu/ds/products/emc-cvm_h_v15_1/), [Small et al., 2017](https://pubs.geoscienceworld.org/ssa/srl/article/88/6/1539/353986/The-SCEC-Unified-Community-Velocity-Model-Software))"
   ]
  },
  {
   "cell_type": "markdown",
   "id": "d77b8534",
   "metadata": {},
   "source": [
    "Let's formatting the array to make it compatible with disba"
   ]
  },
  {
   "cell_type": "code",
   "execution_count": null,
   "id": "a1a4d1a8",
   "metadata": {
    "tags": []
   },
   "outputs": [],
   "source": [
    "model[\"depth\"]=abs(model[\"depth\"])\n",
    "model[\"rho\"]=model[\"rho\"]/1000\n",
    "thickness = []\n",
    "for i in range(len(model)-1):\n",
    "    thick = model.depth[i+1]-model.depth[i]\n",
    "    thickness.append(thick)\n",
    "thickness.append(0)\n",
    "\n",
    "model['thickness']=thickness"
   ]
  },
  {
   "cell_type": "code",
   "execution_count": null,
   "id": "58bdb208",
   "metadata": {
    "tags": []
   },
   "outputs": [],
   "source": [
    "print(model)"
   ]
  },
  {
   "cell_type": "code",
   "execution_count": null,
   "id": "5149347b",
   "metadata": {
    "tags": []
   },
   "outputs": [],
   "source": [
    "first = True\n",
    "for i in range(len(model)):\n",
    "    if first:\n",
    "        velmod=np.array([model.thickness[i],model.vp[i],model.vs[i],model.rho[i]])\n",
    "        first = False\n",
    "    else:\n",
    "        velmod=np.vstack((velmod,[model.thickness[i],model.vp[i],model.vs[i],model.rho[i]]))"
   ]
  },
  {
   "cell_type": "markdown",
   "id": "c7923bb6",
   "metadata": {},
   "source": [
    "Disba need a velocity model with thickness, Vp, Vs, density (km, km/s, km/s, g/cm3)"
   ]
  },
  {
   "cell_type": "code",
   "execution_count": null,
   "id": "a9992d16",
   "metadata": {
    "tags": []
   },
   "outputs": [],
   "source": [
    "velmod"
   ]
  },
  {
   "cell_type": "code",
   "execution_count": null,
   "id": "923c6668",
   "metadata": {
    "tags": []
   },
   "outputs": [],
   "source": [
    "# Velocity model\n",
    "# thickness, Vp, Vs, density\n",
    "# km, km/s, km/s, g/cm3\n",
    "velocity_model = velmod\n",
    "\n",
    "# Periods must be sorted starting with low periods\n",
    "t = np.logspace(0.0, 1.0, 100)\n",
    "\n",
    "# Get the 3 first Rayleigh- wave modal dispersion curves\n",
    "# Fundamental mode corresponds to mode 0\n",
    "gd = GroupDispersion(*velocity_model.T)\n",
    "cpr = [gd(t, mode=i, wave=\"rayleigh\") for i in range(3)]\n",
    "\n",
    "# pd returns a namedtuple (period, velocity, mode, wave, type)"
   ]
  },
  {
   "cell_type": "code",
   "execution_count": null,
   "id": "9a4bc6ed",
   "metadata": {
    "tags": []
   },
   "outputs": [],
   "source": [
    "labels = [\"Fundamental\", \"mode 1\", \"mode 2\"]\n",
    "plt.figure()\n",
    "for i in range(3):\n",
    "    plt.plot(cpr[i].period, cpr[i].velocity, label=labels[i])\n",
    "    \n",
    "    plt.legend()    \n",
    "    plt.xlim(1,10)\n",
    "plt.ylabel(\"velocity (km/s)\")\n",
    "plt.xlabel(\"Period(s)\")\n",
    "plt.title(\"Rayleigh group velocity dispersion curves\")\n",
    "plt.show()"
   ]
  },
  {
   "cell_type": "markdown",
   "id": "b62ec6f0-d6dc-4690-98ac-be7dc1279093",
   "metadata": {},
   "source": [
    "## Extracting the sensitivity kernel"
   ]
  },
  {
   "cell_type": "code",
   "execution_count": null,
   "id": "7755aa12",
   "metadata": {
    "tags": []
   },
   "outputs": [],
   "source": [
    "gs = GroupSensitivity(*velocity_model.T)"
   ]
  },
  {
   "cell_type": "code",
   "execution_count": null,
   "id": "24181662",
   "metadata": {
    "tags": []
   },
   "outputs": [],
   "source": [
    "matplotlib.rcParams['axes.linewidth'] = 0.5\n",
    "parameters = [\"velocity_s\"]\n",
    "max_depth=10\n",
    "\n",
    "\n",
    "fig, axs = plt.subplots(nrows=1, ncols=2, figsize=[9,6], sharey='row',gridspec_kw={'width_ratios': [2, 2]})\n",
    "\n",
    "# Subplot for Vp and Vs\n",
    "axs[0].step(model.vp, -model.depth, label=\"Vp\")\n",
    "axs[0].step(model.vs, -model.depth, label=\"Vs\")\n",
    "axs[0].set_ylim(-max_depth,0)\n",
    "#axs[0].set_xlim(3.665,3.682)\n",
    "axs[0].set_xlabel('Vs (km/s)')  \n",
    "axs[0].set_ylabel('Depth (km)')\n",
    "matplotlib.rcParams['text.usetex'] = True\n",
    "matplotlib.rcParams['text.usetex'] = False    \n",
    "axs[0].tick_params(axis=\"y\", direction='in', length=3, width=0.5)\n",
    "axs[0].tick_params(axis=\"x\", direction='in', length=3, width=0.5)\n",
    "axs[0].legend(frameon=False)\n",
    "\n",
    "periods = [0.25,0.5,2,4,6] # Choose your adventure, make list of the frequencies/periods you chose in the previous notebook\n",
    "\n",
    "wavs = ['rayleigh']\n",
    "\n",
    "for w, wav in enumerate(wavs):\n",
    "\n",
    "    for p in periods: \n",
    "\n",
    "        sk = [gs(p, mode=0, wave=wav, parameter=parameter) for parameter in parameters]\n",
    "        axs[1+w].plot(sk[0].kernel, -sk[0].depth, label = '{} s'.format(p))\n",
    "        print('Period = {}'.format(p))\n",
    "    axs[1+w].set_title('{}'.format(wav.capitalize()))\n",
    "    axs[1+w].set_ylim(-max_depth,0)\n",
    " \n",
    "    matplotlib.rcParams['text.usetex'] = True\n",
    "    axs[1+w].set_xlabel('{}'.format(r'$dU/dV_{\\beta}$'))\n",
    "    matplotlib.rcParams['text.usetex'] = False\n",
    "    axs[1+w].tick_params(axis=\"y\", direction='in', length=3, width=0.5)\n",
    "    axs[1+w].tick_params(axis=\"x\", direction='in', length=3, width=0.5)\n",
    "    axs[1+w].axvspan(-1,0, alpha=0.2,color=\"r\")\n",
    "    \n",
    "axs[1].legend(frameon=False)   \n",
    "\n",
    "axs[1].set_xlim(-0.3,1.2)\n",
    "#axs[1+w].set_xlim(-0.05,0.07)\n",
    "plt.tight_layout()\n",
    "plt.show()"
   ]
  },
  {
   "cell_type": "code",
   "execution_count": null,
   "id": "758d95b0",
   "metadata": {},
   "outputs": [],
   "source": []
  },
  {
   "cell_type": "code",
   "execution_count": null,
   "id": "88371774",
   "metadata": {},
   "outputs": [],
   "source": []
  }
 ],
 "metadata": {
  "kernelspec": {
   "display_name": "Python 3 (ipykernel)",
   "language": "python",
   "name": "python3"
  },
  "language_info": {
   "codemirror_mode": {
    "name": "ipython",
    "version": 3
   },
   "file_extension": ".py",
   "mimetype": "text/x-python",
   "name": "python",
   "nbconvert_exporter": "python",
   "pygments_lexer": "ipython3",
   "version": "3.10.9"
  }
 },
 "nbformat": 4,
 "nbformat_minor": 5
}
