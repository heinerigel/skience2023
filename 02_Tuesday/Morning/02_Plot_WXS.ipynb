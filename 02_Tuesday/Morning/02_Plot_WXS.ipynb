{
 "cells": [
  {
   "cell_type": "code",
   "execution_count": null,
   "id": "dc5e5610",
   "metadata": {
    "tags": []
   },
   "outputs": [],
   "source": [
    "from IPython.core.display import display, HTML\n",
    "display(HTML(\"<style>.container { width:80% !important; }</style>\")) \n",
    "from IPython.core.interactiveshell import InteractiveShell\n",
    "InteractiveShell.ast_node_interactivity = \"last_expr\"\n",
    "import warnings\n",
    "warnings.filterwarnings('ignore')\n",
    "\n",
    "import pandas as pd\n",
    "from obspy import read\n",
    "from msnoise.api import *\n",
    "from wxs_dvv import *\n",
    "import os\n",
    "import numpy as np\n",
    "import tqdm\n",
    "import matplotlib.pylab as plt\n",
    "import matplotlib as mpl\n",
    "from matplotlib.dates import DateFormatter\n",
    "plt.rcParams['figure.figsize'] = (16,8)"
   ]
  },
  {
   "cell_type": "markdown",
   "id": "6e5ef984-c956-4d61-86e5-f5c61aad2741",
   "metadata": {
    "tags": []
   },
   "source": [
    "## Getting parameters from the msnoise DB\n",
    "\n",
    "Like in the previous notebook, we try to take advantage of the MSNoise configuration DB to stay consistant."
   ]
  },
  {
   "cell_type": "code",
   "execution_count": null,
   "id": "94b9de24",
   "metadata": {
    "tags": []
   },
   "outputs": [],
   "source": [
    "db = connect()\n",
    "params = get_params(db)\n",
    "filterid=1\n",
    "fs = params.cc_sampling_rate\n",
    "lag_min = params.dtt_minlag\n",
    "lag_max = params.dtt_minlag+params.dtt_width\n",
    "freqmin=0.1\n",
    "freqmax=4.0\n",
    "subdaily=False\n",
    "saveit=True\n",
    "plot = False\n",
    "static_ref = True\n",
    "\n",
    "stations_to_analyse = [\"%s.%s.%s\" % (sta.net, sta.sta, sta.locs()[0]) for sta in get_stations(db, all=False)]\n",
    "pairs = [\"{}:{}\".format(sta,sta) for sta in stations_to_analyse]\n",
    "pair = pairs[0]\n",
    "start = params.startdate\n",
    "end = params.enddate\n",
    "comp = \"EZ\" # Choose your adventure\n",
    "mov_stack = 30 # Choose your adventure"
   ]
  },
  {
   "cell_type": "markdown",
   "id": "170196c3-ea8b-449b-b4fb-60364e1ffe15",
   "metadata": {},
   "source": [
    "# Plotting the dv/v"
   ]
  },
  {
   "cell_type": "code",
   "execution_count": null,
   "id": "c2f3216d",
   "metadata": {
    "tags": []
   },
   "outputs": [],
   "source": [
    "df_file = glob.glob(\"WCT/{}*.pkl\".format(pair.replace(\":\",\"_\")))[0]\n",
    "dvv_df = pd.read_pickle(df_file)\n",
    "dvv_df\n",
    "\n",
    "fig, ax2 = plt.subplots(figsize=(20,5))\n",
    "clim = 2\n",
    "span = 30 # Smoothing alert!\n",
    "ax2.pcolormesh(np.asarray(dvv_df.ewm(span = span).mean().index), \n",
    "               np.asarray(dvv_df.ewm(span = span).mean().columns), \n",
    "               dvv_df.ewm(span = span).mean().astype(float).T.values, \n",
    "               cmap='seismic_r', edgecolors='none', vmin=-clim, vmax=clim)\n",
    "cmap = mpl.cm.seismic_r\n",
    "norm = mpl.colors.Normalize(vmin=-clim, vmax=clim)\n",
    "cbar2=plt.colorbar(mpl.cm.ScalarMappable(norm=norm, cmap=cmap),ax = ax2)\n",
    "cbar2.set_label('dv/v', rotation=270)\n",
    "ax2.set_ylim(freqmin, freqmax)\n",
    "ax2.set_title('dv/v {} {}'.format(pair.split(\":\")[0],comp), fontsize=13)\n",
    "ax2.set_ylabel('Frequency (Hz)')\n",
    "plt.gca().xaxis.set_major_formatter(DateFormatter(\"%Y-%m-%d\"))\n",
    "fig.autofmt_xdate()\n",
    "\n",
    "#    plt.savefig(\"WTC/Figure/dvv_wct {} {}.png\".format(pair,comp), dpi=300)\n",
    "plt.show()"
   ]
  },
  {
   "cell_type": "markdown",
   "id": "e6faa91c-4fb5-4ff4-a63a-4daff133ba93",
   "metadata": {},
   "source": [
    "## Let's compare!"
   ]
  },
  {
   "cell_type": "code",
   "execution_count": null,
   "id": "4075a731-dd06-4129-8d7f-4df7516273d3",
   "metadata": {
    "tags": []
   },
   "outputs": [],
   "source": [
    "# Load Tim's dv/v fo the station\n",
    "clement = pd.read_pickle(\"DATA/clement.pkl\")\n",
    "clement.index = pd.to_datetime(clement.index)\n",
    "clement.columns = [\"Clements 2023\"]\n",
    "\n",
    "# We stick to the same frequency range\n",
    "high = 4 \n",
    "low = 2 \n",
    "\n",
    "#Formatting the DataFrame\n",
    "select = dvv_df.T\n",
    "sub_select = select[(select.index>=low) & (select.index<=high)].mean().ewm(span = span).mean()"
   ]
  },
  {
   "cell_type": "markdown",
   "id": "e1cf4452-3e3a-49e1-a926-3d773b25a449",
   "metadata": {
    "tags": []
   },
   "source": [
    "Plot it!"
   ]
  },
  {
   "cell_type": "code",
   "execution_count": null,
   "id": "b01b8295-c557-40c3-aa79-f2c4002a2f80",
   "metadata": {
    "tags": []
   },
   "outputs": [],
   "source": [
    "fig, ax = plt.subplots()\n",
    "sub_select.plot(ax=ax,title=\"dv/v variation at station {} for the component {}\".format(pair.split(\":\")[0], comp), label=\"Your curve\")\n",
    "clement.plot(ax=ax, label=\"Clement 2023\")\n",
    "plt.legend()\n",
    "plt.ylabel(\"dv/v (%)\")\n",
    "plt.show()"
   ]
  },
  {
   "cell_type": "markdown",
   "id": "d1a736c7-346f-43c8-88d9-7999e1821cf8",
   "metadata": {},
   "source": [
    "## Let's not stop here\n",
    "\n",
    "Pick one or several frequency ranges to average and save.\n",
    "\n",
    "You will use this frequency range in the next notebook to estimate the depth of the observed change"
   ]
  },
  {
   "cell_type": "code",
   "execution_count": null,
   "id": "e8a5c194-78c1-44ae-b3cc-9db82e54f682",
   "metadata": {},
   "outputs": [],
   "source": [
    "high = # Choose your adventure\n",
    "low = # Choose your adventure\n",
    "fn = # Choose a name for your frequency range of choice\n",
    "\n",
    "\n",
    "select = dvv_df.T\n",
    "sub_select = select[(select.index>=low) & (test.index<=high)].mean().ewm(span = span).mean()\n",
    "fig, ax = plt.subplots()\n",
    "sub_select.plot(ax=ax,title=\"dv/v variation at station {} for the component {}\".format(pair.split(\":\")[0], comp))\n",
    "plt.ylabel(\"dv/v (%)\")\n",
    "plt.show()\n",
    "\n",
    "sub_select.to_pickle(\"DATA/filtered_dvv_{}_{}_{}\".format(pair.split(\":\")[0], comp, fn))"
   ]
  },
  {
   "cell_type": "markdown",
   "id": "c3832e6c-cbc9-4c1e-8baf-816e07ff4174",
   "metadata": {
    "tags": []
   },
   "source": [
    "The error on the linear regression used at the dv/v step was also saved and should always be reviewed to assess the reliability of your measurements."
   ]
  },
  {
   "cell_type": "code",
   "execution_count": null,
   "id": "fd403a33",
   "metadata": {
    "tags": []
   },
   "outputs": [],
   "source": [
    "df_file = glob.glob(\"WCT/Err*{}*.pkl\".format(pair.replace(\":\",\"_\")))[0]\n",
    "dvv_df = pd.read_pickle(df_file)\n",
    "dvv_df\n",
    "\n",
    "fig, ax2 = plt.subplots(figsize=(20,8))\n",
    "clim = 0.1\n",
    "span = 40 # Smoothing alert!\n",
    "cmap = mpl.cm.viridis\n",
    "ax2.pcolormesh(np.asarray(dvv_df.ewm(span = span).mean().index), \n",
    "               np.asarray(dvv_df.ewm(span = span).mean().columns), \n",
    "               dvv_df.ewm(span = span).mean().astype(float).T.values, \n",
    "               cmap=cmap, edgecolors='none', vmin=0, vmax=clim)\n",
    "\n",
    "norm = mpl.colors.Normalize(vmin=0, vmax=clim)\n",
    "cbar2=plt.colorbar(mpl.cm.ScalarMappable(norm=norm, cmap=cmap),ax = ax2)\n",
    "cbar2.set_label('dv/v', rotation=270)\n",
    "ax2.set_ylim(0.1, 2)\n",
    "ax2.set_title('Error %s'%pair, fontsize=13)\n",
    "ax2.set_ylabel('Frequency (Hz)')\n",
    "plt.gca().xaxis.set_major_formatter(DateFormatter(\"%Y-%m-%d\"))\n",
    "fig.autofmt_xdate()\n",
    "\n",
    "#    plt.savefig(\"dvv wct %s.png\"%pair, dpi=300)\n",
    "plt.show()"
   ]
  },
  {
   "cell_type": "code",
   "execution_count": null,
   "id": "2918b29a",
   "metadata": {},
   "outputs": [],
   "source": []
  }
 ],
 "metadata": {
  "kernelspec": {
   "display_name": "Python 3 (ipykernel)",
   "language": "python",
   "name": "python3"
  },
  "language_info": {
   "codemirror_mode": {
    "name": "ipython",
    "version": 3
   },
   "file_extension": ".py",
   "mimetype": "text/x-python",
   "name": "python",
   "nbconvert_exporter": "python",
   "pygments_lexer": "ipython3",
   "version": "3.10.9"
  }
 },
 "nbformat": 4,
 "nbformat_minor": 5
}
