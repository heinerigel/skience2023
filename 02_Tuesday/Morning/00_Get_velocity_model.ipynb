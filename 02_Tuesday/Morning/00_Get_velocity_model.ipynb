{
 "cells": [
  {
   "cell_type": "code",
   "execution_count": null,
   "id": "b9e87d0c",
   "metadata": {},
   "outputs": [],
   "source": [
    "from IPython.core.display import display, HTML\n",
    "display(HTML(\"<style>.container { width:80% !important; }</style>\")) \n",
    "from IPython.core.interactiveshell import InteractiveShell\n",
    "InteractiveShell.ast_node_interactivity = \"last_expr\"\n",
    "import warnings\n",
    "warnings.filterwarnings('ignore')\n",
    "\n",
    "from netCDF4 import Dataset as netcdf_dataset\n",
    "import netCDF4\n",
    "import pandas as pd\n",
    "import urllib"
   ]
  },
  {
   "cell_type": "markdown",
   "id": "b779fef4-6c7f-4efa-b5fb-22eb36472c63",
   "metadata": {},
   "source": [
    "# Download the Community Velocity Model - Harvard (CVM-H), a 3D structural velocity model for the southern California crust and upper mantle.\n",
    "\n",
    "Reference:\n",
    "    Shaw, J. H., Plesch, A., Tape, C., Suess, M., Jordan, T. H., Ely, G., Hauksson, E., Tromp, J., Tanimoto, T., Graves, R., Olsen, K., Nicholson, C., Maechling, P. J., Rivero, C., Lovely, P., Brankman, C. M., & Munster, J. (2015). Unified Structural Representation of the southern California crust and upper mantle. Earth and Planetary Science Letters, 415, 1-15. https://doi.org/10.1016/j.epsl.2015.01.016."
   ]
  },
  {
   "cell_type": "code",
   "execution_count": null,
   "id": "ec51ec39-b7a4-4564-9948-94eb819c40cc",
   "metadata": {},
   "outputs": [],
   "source": [
    "urllib.request.urlretrieve(\"https://ds.iris.edu/files/products/emc/emc-files/SCEC-CVM-H-v15-1-n4.nc\", filename=\"DATA/SCEC-CVM-H-v15-1-n4.nc\")"
   ]
  },
  {
   "cell_type": "markdown",
   "id": "bb36d368-4a17-4d40-bdd7-bb1286a600f8",
   "metadata": {},
   "source": [
    "# Read and select vp, vs and rho for the coordinates of teh station of interest"
   ]
  },
  {
   "cell_type": "code",
   "execution_count": null,
   "id": "87dd62e2",
   "metadata": {},
   "outputs": [],
   "source": [
    "model_file = \"DATA/SCEC-CVM-H-v15-1-n4.nc\""
   ]
  },
  {
   "cell_type": "code",
   "execution_count": null,
   "id": "c4940b8e",
   "metadata": {},
   "outputs": [],
   "source": [
    "dataset = netcdf_dataset(r\"{}\".format(model_file))"
   ]
  },
  {
   "cell_type": "code",
   "execution_count": null,
   "id": "87cef3e5",
   "metadata": {},
   "outputs": [],
   "source": [
    "lats=dataset.variables[\"latitude\"][:]\n",
    "lons = dataset.variables[\"longitude\"][:]\n",
    "# Station coordinates\n",
    "sta_lat = 34.80762 \n",
    "sta_lon = -118.86775"
   ]
  },
  {
   "cell_type": "code",
   "execution_count": null,
   "id": "e2e3b986",
   "metadata": {},
   "outputs": [],
   "source": [
    "#Get variables for station coordinates\n",
    "vp = (dataset.variables[\"vp\"][sta_lat,sta_lon, :].data)\n",
    "vs = (dataset.variables[\"vs\"][sta_lat,sta_lon, :].data)\n",
    "rho = (dataset.variables[\"rho\"][sta_lat,sta_lon, :].data)\n",
    "depth = dataset.variables[\"depth\"][:].data"
   ]
  },
  {
   "cell_type": "markdown",
   "id": "9bba78a2-4722-45ed-8f6d-7d413158147b",
   "metadata": {},
   "source": [
    "# Use the velocity model as a dataframe"
   ]
  },
  {
   "cell_type": "code",
   "execution_count": null,
   "id": "fcd6d075",
   "metadata": {},
   "outputs": [],
   "source": [
    "d = {\"depth\":depth,\"vp\":vp,\"vs\":vs,\"rho\":rho }\n",
    "model = pd.DataFrame(d)"
   ]
  },
  {
   "cell_type": "markdown",
   "id": "bc6cadd7-f24d-49cc-b4dc-48988419521b",
   "metadata": {},
   "source": [
    "# Remove depths with NaN values"
   ]
  },
  {
   "cell_type": "code",
   "execution_count": null,
   "id": "a4ee4683",
   "metadata": {},
   "outputs": [],
   "source": [
    "velocity_model = model[model.depth<0].reset_index(drop=True)"
   ]
  },
  {
   "cell_type": "code",
   "execution_count": null,
   "id": "b7bc1163",
   "metadata": {},
   "outputs": [],
   "source": [
    "print(velocity_model)"
   ]
  },
  {
   "cell_type": "markdown",
   "id": "54f8aa4a-7704-45ea-88aa-af15c90ce9e7",
   "metadata": {},
   "source": [
    "# Save the velocity model for later use"
   ]
  },
  {
   "cell_type": "code",
   "execution_count": null,
   "id": "e85c9a56-7a8c-40b0-a08f-ca9aaacb5953",
   "metadata": {},
   "outputs": [],
   "source": [
    "velocity_model.to_pickle(\"DATA/Cali_model.pkl\")"
   ]
  }
 ],
 "metadata": {
  "kernelspec": {
   "display_name": "Python 3 (ipykernel)",
   "language": "python",
   "name": "python3"
  },
  "language_info": {
   "codemirror_mode": {
    "name": "ipython",
    "version": 3
   },
   "file_extension": ".py",
   "mimetype": "text/x-python",
   "name": "python",
   "nbconvert_exporter": "python",
   "pygments_lexer": "ipython3",
   "version": "3.10.9"
  }
 },
 "nbformat": 4,
 "nbformat_minor": 5
}
