{
 "cells": [
  {
   "cell_type": "markdown",
   "id": "80b4c121",
   "metadata": {},
   "source": [
    "This notebook should not be necessary for the workshop but shows you how to re-download the data used in the practical."
   ]
  },
  {
   "cell_type": "code",
   "execution_count": null,
   "id": "1d19231e",
   "metadata": {},
   "outputs": [],
   "source": [
    "from IPython.core.display import display, HTML\n",
    "display(HTML(\"<style>.container { width:80% !important; }</style>\")) \n",
    "from IPython.core.interactiveshell import InteractiveShell\n",
    "InteractiveShell.ast_node_interactivity = \"last_expr\"\n",
    "import warnings\n",
    "warnings.filterwarnings('ignore')\n",
    "\n",
    "from obspy.clients.fdsn.mass_downloader import RectangularDomain, \\\n",
    "    Restrictions, MassDownloader\n",
    "from obspy import UTCDateTime\n",
    "import os\n"
   ]
  },
  {
   "cell_type": "markdown",
   "id": "fe9d381e",
   "metadata": {},
   "source": [
    "# Edit the station information and, if necessary, the providers"
   ]
  },
  {
   "cell_type": "code",
   "execution_count": null,
   "id": "fa702de3",
   "metadata": {},
   "outputs": [],
   "source": [
    "sta = \"LJR\"\n",
    "net = \"CI\"\n",
    "cha = \"HH*\"\n",
    "start = UTCDateTime(2011, 1, 1)\n",
    "end = UTCDateTime(2017, 1, 1)\n",
    "clients = [\"SCEDC\",\"IRIS\"]"
   ]
  },
  {
   "cell_type": "markdown",
   "id": "89978393",
   "metadata": {},
   "source": [
    "# Change the rectangular domain around your station to match the station of your choice"
   ]
  },
  {
   "cell_type": "code",
   "execution_count": null,
   "id": "91d3fbb5",
   "metadata": {},
   "outputs": [],
   "source": [
    "domain = RectangularDomain(minlatitude=30, maxlatitude=40,\n",
    "                           minlongitude=-120, maxlongitude=-110)\n",
    "\n",
    "restrictions = Restrictions(\n",
    "    starttime=start,\n",
    "    endtime=end,\n",
    "    chunklength_in_sec=86400,\n",
    "    network=net, station=sta, location=\"*\", channel=cha,\n",
    "    reject_channels_with_gaps=False,\n",
    "    minimum_length=0.0,\n",
    "    minimum_interstation_distance_in_m=100.0)"
   ]
  },
  {
   "cell_type": "code",
   "execution_count": null,
   "id": "8f7ee77f",
   "metadata": {},
   "outputs": [],
   "source": [
    "if not os.path.isdir(\"DATA/MSEED\"):\n",
    "    os.makedirs(\"DATA/MSEED\")"
   ]
  },
  {
   "cell_type": "markdown",
   "id": "120ffbb6",
   "metadata": {},
   "source": [
    "# Download the stations"
   ]
  },
  {
   "cell_type": "code",
   "execution_count": null,
   "id": "9a3f5118",
   "metadata": {
    "tags": []
   },
   "outputs": [],
   "source": [
    "mdl = MassDownloader(providers=clients)\n",
    "mdl.download(domain, restrictions, mseed_storage=\"DATA/MSEED\",\n",
    "             stationxml_storage=\"DATA/MSEED\")"
   ]
  }
 ],
 "metadata": {
  "kernelspec": {
   "display_name": "Python 3 (ipykernel)",
   "language": "python",
   "name": "python3"
  },
  "language_info": {
   "codemirror_mode": {
    "name": "ipython",
    "version": 3
   },
   "file_extension": ".py",
   "mimetype": "text/x-python",
   "name": "python",
   "nbconvert_exporter": "python",
   "pygments_lexer": "ipython3",
   "version": "3.10.9"
  }
 },
 "nbformat": 4,
 "nbformat_minor": 5
}
