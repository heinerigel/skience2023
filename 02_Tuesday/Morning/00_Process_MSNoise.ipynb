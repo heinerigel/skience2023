{
 "cells": [
  {
   "cell_type": "markdown",
   "id": "e2b78d08-8442-4112-b75b-934e658deb55",
   "metadata": {},
   "source": [
    "To reprocess the cross-correlations from scratch you can run the following cell in your work directory"
   ]
  },
  {
   "cell_type": "code",
   "execution_count": null,
   "id": "2ecf3f33-2c32-4248-823d-3cc50ead68c1",
   "metadata": {
    "tags": []
   },
   "outputs": [],
   "source": [
    "#Initiate the project\n",
    "!msnoise db init --tech 1\n",
    "!msnoise config set startdate=2011-01-01\n",
    "!msnoise config set enddate=2017-01-01\n",
    "!msnoise config set ref_begin=2011-01-01\n",
    "!msnoise config set ref_end=2017-01-01\n",
    "!msnoise config set components_to_compute_single_station=ZZ\n",
    "!msnoise config set dtt_minlag=2\n",
    "!msnoise config set dtt_width=6\n",
    "!msnoise config set mov_stack=5,30\n",
    "!msnoise scan_archive --path DATA/MSEED/ --recursively --init\n",
    "!msnoise populate --fromDA\n",
    "!msnoise db update_loc_chan\n",
    "!msnoise db execute \"insert into filters (ref, low, mwcs_low, high, mwcs_high, mwcs_wlen, mwcs_step, used) values (1, 0.1, 0.12, 4.0, 3.98, 12.0, 4.0, 1)\"\n",
    "!msnoise new_jobs --init\n",
    "#Run the cross-correlation and stacking jobs\n",
    "!msnoise cc compute_cc\n",
    "!msnoise cc stack -r\n",
    "!msnoise reset STACK\n",
    "!msnoise cc stack -m\n"
   ]
  }
 ],
 "metadata": {
  "kernelspec": {
   "display_name": "Python 3 (ipykernel)",
   "language": "python",
   "name": "python3"
  },
  "language_info": {
   "codemirror_mode": {
    "name": "ipython",
    "version": 3
   },
   "file_extension": ".py",
   "mimetype": "text/x-python",
   "name": "python",
   "nbconvert_exporter": "python",
   "pygments_lexer": "ipython3",
   "version": "3.10.9"
  }
 },
 "nbformat": 4,
 "nbformat_minor": 5
}
