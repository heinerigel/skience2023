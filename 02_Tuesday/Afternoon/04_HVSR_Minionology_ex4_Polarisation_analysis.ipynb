{
 "cells": [
  {
   "cell_type": "markdown",
   "id": "d49db7d1",
   "metadata": {},
   "source": [
    "# Minionology: HVSR with seismic nodes\n",
    "### Skience2023 practical on HVSR, node installation, applications, Geopsy, continuous data analysis\n",
    "\n",
    "##### Authors:\n",
    "* Koen Van Noten ([@KoenVanNoten](https://github.com/KoenVanNoten))\n",
    "\n",
    "##### Introduction:\n",
    "In Geopsy's H/V module, by default a squared average of the horizontal components is taken. However, the energy of the ambient noise in the frequenc band of interest is not homogeneous and an H/V profile with a directional energy will give a different result. To investigate in which direction the energy (and thus the H/V amplitude is maximal), Geopsy's __H/V rotate module__ can be used. \n",
    "\n",
    "In this notebook we'll show how to read Geopsy's _H/V rotate_ .grid output files and to also to add them to an HVSR database so it can be used for mapping/plotting/interpolation, etc.\n",
    "\n",
    "##### References:\n",
    "* Van Noten, K., Devleeschouwer, X., Goffin, C., Meyvis, B., Molron, J., Debacker, T.N. & Lecocq, T. 2022. Brussels’ bedrock paleorelief from borehole-controlled powerlaws linking polarised H/V resonance frequencies and sediment thickness. _Journal of Seismology_ 26, 35-55. DOI: https://doi.org/10.1007/s10950-021-10039-8 pdf: https://publi2-as.oma.be/record/5626/files/2022_VanNotenetal_HVSR_Powerlaw_Brussels.pdf \n",
    "* Van Noten, K, Lecocq, Buddha Power, B. (2020). HVSR to Virtual Borehole (1.0). Zenodo. https://doi.org/10.5281/zenodo.4276310 and https://github.com/KoenVanNoten/HVSR_to_virtual_borehole/blob/master/HVSR%20polarisation.py"
   ]
  },
  {
   "cell_type": "markdown",
   "id": "ef8ea85f",
   "metadata": {},
   "source": [
    "### 1. Use the HV rotate module in Geopsy \n",
    "* Load node 453000039.1.2022.12.02.09.20.00.000.*.miniseed HV in HVSR_ex1_Bru in Geopsy\n",
    "* Use the Geopsy HV rotate module\n",
    "* Load the BE_00039.log file from HVSR_ex1_Bru/Analysed. Using this log file allows processing the same window as the HV\n",
    "* Process the data. The default rotation is 10°, but smaller steps can be processed too.\n",
    "* Save a _BE_00039.hv.grid_ file in __HVSR_ex1_Bru/Analysed__\n",
    "\n",
    "<img src=\"Figures/Geopsy HV rotate example.png\" width=900></img>"
   ]
  },
  {
   "cell_type": "markdown",
   "id": "335a45e9",
   "metadata": {},
   "source": [
    "### 2. Making a polar plot from the geopsy HV rotate module output .grid file \n",
    "The Geopsy output is not intuitive as polar data are plotted in an __X__ (Frequency) - __Y__ (Azimuth) diagram in stead of a 360° diagram. The script in below loads one or all Geopsy HV rotate module .grid files and replots it into a more understandable polar plot. It will search the azimuth at which the maximum resonance frequency occurs. "
   ]
  },
  {
   "cell_type": "code",
   "execution_count": null,
   "id": "e60b43ac",
   "metadata": {},
   "outputs": [],
   "source": [
    "import os\n",
    "import numpy as np\n",
    "import matplotlib.pyplot as plt\n",
    "import pandas as pd\n",
    "import matplotlib.ticker as ticker\n",
    "\n",
    "# run the previous notebook\n",
    "%run 00_HVSR_Minionology_definitions.ipynb"
   ]
  },
  {
   "cell_type": "markdown",
   "id": "f705a2c5",
   "metadata": {},
   "source": [
    "In below, first several options are given to plot the HV polar plot, then the polar plot is made.\n",
    "Following data is returned:\n",
    "* __A_max__: maximum amplitude at resonance frequency deduced from the HVSR polarisation analysis \n",
    "* __max_freq__: Resonance frequency at A_max\n",
    "* __max_Azi__: Azimuth at which resonance frequency is maximum (deduced from polarisation analysis)\n",
    "* __A_min__: minimum amplitude at resonance frequency deduced from the HVSR polarisation analysis \n",
    "* __min_freq__:  Azimuth at which resonance frequency is minimal (deduced from polarisation analysis)\n",
    "* __min_Azi__: Azimuth at which resonance frequency is minimum (deduced from polarisation analysis)\n"
   ]
  },
  {
   "cell_type": "code",
   "execution_count": null,
   "id": "3e301431",
   "metadata": {},
   "outputs": [],
   "source": [
    "plot_polarisation_data?"
   ]
  },
  {
   "cell_type": "code",
   "execution_count": null,
   "id": "d361d4c4",
   "metadata": {},
   "outputs": [],
   "source": [
    "#€ give HV.grid file\n",
    "HV_file = r'HVSR_ex1_Bru\\Analysed\\BE_00039.hv.grid'\n",
    "ID = 'BE_00039'\n",
    "\n",
    "# If freq_range = True, search for the maximum azimuthal values in a certain frequency range \n",
    "# If freq_range = False, code will take the max range in the .grid file\n",
    "freq_range = False\n",
    "f_range = [1.15, 1.4]\n",
    "\n",
    "# Wanna plot the polarisation figure?\n",
    "plot_fig = True\n",
    "\n",
    "# Wanna save the polarisation figure?\n",
    "save_fig = False  # save results to fig (default = png)\n",
    "\n",
    "# if auto_freq, frequency will be chosen automatically around f0\n",
    "# if false, give the range of the frequency\n",
    "auto_freq = False\n",
    "limfreq_min = 0.5\n",
    "limfreq_max = 1.49\n",
    "\n",
    "# spacing of the ticks on the frequency distribution\n",
    "steps = 0.2\n",
    "\n",
    "# plot it\n",
    "A_max, max_freq, max_Azi,A_min, min_freq, min_Azi = plot_polarisation_data(HV_file, ID, limfreq_min, limfreq_max, 10)"
   ]
  },
  {
   "cell_type": "markdown",
   "id": "42d76ed9",
   "metadata": {},
   "source": [
    "Play with the params above.\n",
    "Analyse the returned data. \n",
    "* How \"big\" is the polarisation ? Compare A_max and A_min.\n",
    "* Is the min_Azi and max_Azi always perpendicular?"
   ]
  },
  {
   "cell_type": "code",
   "execution_count": null,
   "id": "1852dacb",
   "metadata": {},
   "outputs": [],
   "source": [
    "# How \"big\"\n",
    "print(\"A_min is %s %% from A_max\"%(round((A_min/ A_max)*100,1)))\n",
    "\n",
    "# perpendicular?\n",
    "print(min_Azi - max_Azi, \" not perpendicular\")"
   ]
  },
  {
   "cell_type": "markdown",
   "id": "2ef76c50",
   "metadata": {},
   "source": [
    "### 3. Make HV Polarisation plot from all nodes in the HVSR database\n",
    "First the data is read from the HVSR data (use immediately the HVSR_database_f0_from_HV.csv file made in exercise 1). From either all nodes, or only those given in a list, the polarisation plot will be made, saved and the rotational data will be exported to the HVSR database with the suffix _polarisation_plotted.csv_\n"
   ]
  },
  {
   "cell_type": "code",
   "execution_count": null,
   "id": "1cbb9e5d",
   "metadata": {},
   "outputs": [],
   "source": [
    "### load the HVSR rom the previous exercise \n",
    "database_file = 'HVSR_ex1_Bru/HVSR_database_TouretTaxis_f0_from_hv.csv'\n",
    "in_folder = 'HVSR_ex1_Bru/Analysed' #Folder containing the Geopsy rotate module files\n",
    "out_folder = 'Figures' #Folder in which the polarisation figures will be saved\n",
    "\n",
    "### choose to plot all files from a list or only one specific ID given in below\n",
    "### if plot_all is True, rotational data will be exported to a \"HVSR rotation.csv\" file\n",
    "plot_all = False    #False = manual search\n",
    "IDs = ['BE_00039', 'BE_00270']  #list of nodes to create the polar plot\n",
    "\n",
    "# Wanna plot the polarisation figure?\n",
    "plot_fig = True\n",
    "\n",
    "# Wanna save the polarisation figure?\n",
    "save_fig = False  # save results to fig (default = png)\n",
    "\n",
    "# if auto_freq, frequency will be plotted automatically around f0\n",
    "# if false, give the range of the frequency to plot\n",
    "auto_freq = False\n",
    "limfreq_min = 0.5\n",
    "limfreq_max = 1.49\n",
    "\n",
    "# manual = decide to set the maximum of the Amplitude color scale manually (and give the A_amplitude)\n",
    "# if several plots need to be made, it might be easier to fix the Amplitude so that one can compare the different plots\n",
    "manual = False\n",
    "A_manual = 10\n",
    "\n",
    "# Search for the maximum values in a certain frequency range. \n",
    "# Don't use this function when plot_all (or all freqs will be plotted in this range)\n",
    "freq_range = False\n",
    "f_range = [1.2, 1.5]\n",
    "\n",
    "# spacing of the ticks on the frequency distribution\n",
    "steps = 0.2\n",
    "\n",
    "################################################\n",
    "# Main program\n",
    "################################################\n",
    "\n",
    "rot_data = []\n",
    "\n",
    "##### Loop over all data in the HVSR database\n",
    "if plot_all:\n",
    "    db_HVSR = pd.read_csv(database_file, delimiter=',', skiprows=0, engine = 'python')\n",
    "    IDs = db_HVSR[\"ID\"]\n",
    "    A0s = db_HVSR[\"A0\"]\n",
    "\n",
    "    for i in IDs:\n",
    "        HV_file = os.path.join(in_folder, '%s'% i)\n",
    "        if manual:\n",
    "            A0_max = A_manual\n",
    "        else:\n",
    "            # set maximum amplitude from A0 provided in the database list\n",
    "            A0_max = round(A0s[(IDs == i).argmax()] + 1, 0)\n",
    "        try:\n",
    "            A_max, max_freq, max_Azi,A_min, min_freq, min_Azi = plot_polarisation_data(HV_file, i, limfreq_min, limfreq_max, A0_max)\n",
    "        # in newer Geopsy versions the rotation data is saved as .hv.grid extension\n",
    "        except BaseException as e:\n",
    "            HV_file = os.path.join(in_folder, '%s.hv.grid' % i)\n",
    "            A_max, max_freq, max_Azi,A_min, min_freq, min_Azi = plot_polarisation_data(HV_file, i, limfreq_min, limfreq_max, A0_max)\n",
    "            pass\n",
    "    \n",
    "        #store the data\n",
    "        rot_data.append([A_max, max_freq, max_Azi,A_min, min_freq, min_Azi])\n",
    "        print('ID', 'A_max', 'max_freq', 'max_Azi','A_min', 'min_freq', 'min_Azi')\n",
    "        print(i, round(A_max,2), round(max_freq,2),round(max_Azi,2),round(A_min,2),round(min_freq,2), min_Azi)\n",
    "        print('   ')\n",
    "\n",
    "    # Export the polarisation data and add it to the HVSR database\n",
    "    out_filespec = os.path.splitext(database_file)[0] + \"_polarisation.csv\"\n",
    "    outputfile = pd.read_csv(database_file)\n",
    "    df_polarisation = pd.DataFrame(rot_data, columns = ['A_max', 'max_freq', 'max_Azi','A_min', 'min_freq', 'min_Azi'])\n",
    "    outputfile = outputfile.join(df_polarisation)\n",
    "    outputfile.to_csv(out_filespec, index = False)\n",
    "\n",
    "else:\n",
    "    IDs = IDs\n",
    "    db_HVSR = pd.read_csv(database_file, delimiter=',', skiprows=0, engine='python', index_col = \"ID\")\n",
    "    A0s = db_HVSR[\"A0\"]\n",
    "    for i in IDs:\n",
    "        HV_file = os.path.join(in_folder, '%s.hv.grid'% i)\n",
    "        print(HV_file)\n",
    "        if manual:\n",
    "            A0_max = A_manual\n",
    "        else:\n",
    "            # set maximum amplitude from A0 provided in the database list and add 4\n",
    "            A0_max = np.array(round(A0s[(i)],0)+1)\n",
    "        # run it\n",
    "        A_max, max_freq, max_Azi,A_min, min_freq, min_Azi = plot_polarisation_data(HV_file, i, limfreq_min, limfreq_max, A0_max)\n",
    "\n",
    "        #store the data\n",
    "        rot_data.append([A_max, max_freq, max_Azi,A_min, min_freq, min_Azi])\n",
    "        print('ID', 'A_max', 'max_freq', 'max_Azi','A_min', 'min_freq', 'min_Azi')\n",
    "        print(i, round(A_max,2), round(max_freq,2),round(max_Azi,2),round(A_min,2),round(min_freq,2), min_Azi)\n",
    "        print('   ')\n",
    "\n",
    "        plt.show()\n",
    "\n",
    "    # Export the polarisation data and add it to the HVSR database\n",
    "    out_filespec = os.path.splitext(database_file)[0] + \"_polarisation.csv\"\n",
    "    outputfile = pd.read_csv(database_file)\n",
    "    df_polarisation = pd.DataFrame(rot_data,\n",
    "                                       columns=['A_max', 'max_freq', 'max_Azi', 'A_min', 'min_freq', 'min_Azi'])\n",
    "    outputfile = outputfile.join(df_polarisation)\n",
    "    outputfile.to_csv(out_filespec, index=False)\n"
   ]
  },
  {
   "cell_type": "code",
   "execution_count": null,
   "id": "6b76775a",
   "metadata": {},
   "outputs": [],
   "source": [
    "outputfile"
   ]
  },
  {
   "cell_type": "markdown",
   "id": "407d320b",
   "metadata": {},
   "source": [
    "### 4. Auto process the HV polarisation\n",
    "* call __geopsy.exe__\n",
    "* call the __-rotate module__ followed by the __miniseed file__\n",
    "* call the .log file created when doing the HV analysis e.g. __-param HVSR_ex2_Auto\\Analysed\\BE_00039.log__\n",
    "* store the generated .hv file in a new folder by __-o HVSR_ex4_Auto\\Auto_Analysed__\n",
    "* Beware! the auto solution does not add a .grid extension to the result\n"
   ]
  },
  {
   "cell_type": "code",
   "execution_count": null,
   "id": "cff4f77c",
   "metadata": {},
   "outputs": [],
   "source": [
    "### For Linux users\n",
    "#!geopsy-hv -hv -param-example HVSR_ex1_Bru\\Raw_Data\\453000039.1.2022.12.02.09.20.00.000.*.miniseed > geopsy-hv.params\n",
    "\n",
    "### Windows 10 - give the location where geopsy.exe is stored\n",
    "### usually in !C:/Users/<USER>/geopsypack-win64-3.4.2/bin/geopsy\n",
    "!C:/Users/koenvn/geopsypack-win64-3.4.2/bin/geopsy-hv.exe -rotate \"HVSR_ex1_Bru\\Raw_Data\\453000039.1.2022.12.02.09.20.00.000.*.miniseed\" -param \"HVSR_ex2_Auto\\Analysed\\BE_00039.log\" -o \"HVSR_ex4_Rot\\Auto_Analysed\""
   ]
  },
  {
   "cell_type": "markdown",
   "id": "b7a17108",
   "metadata": {},
   "source": [
    "Plot the data"
   ]
  },
  {
   "cell_type": "code",
   "execution_count": null,
   "id": "eb6f7de6",
   "metadata": {},
   "outputs": [],
   "source": [
    "#€ give HV.grid file\n",
    "HV_file = r'HVSR_ex4_rot\\Auto_Analysed\\BE_00039.hv'\n",
    "ID = 'BE_00039'\n",
    "\n",
    "# If freq_range = True, search for the maximum azimuthal values in a certain frequency range \n",
    "# If freq_range = False, code will take the max range in the .grid file\n",
    "freq_range = False\n",
    "f_range = [1.15, 1.4]\n",
    "\n",
    "# Wanna plot the polarisation figure?\n",
    "plot_fig = True\n",
    "\n",
    "# Wanna save the polarisation figure?\n",
    "save_fig = False  # save results to fig (default = png)\n",
    "\n",
    "# if auto_freq, frequency will be chosen automatically around f0\n",
    "# if false, give the range of the frequency\n",
    "auto_freq = False\n",
    "limfreq_min = 0.5\n",
    "limfreq_max = 1.49\n",
    "\n",
    "# spacing of the ticks on the frequency distribution\n",
    "steps = 0.2\n",
    "\n",
    "# plot it\n",
    "A_max, max_freq, max_Azi,A_min, min_freq, min_Azi = plot_polarisation_data(HV_file, ID, limfreq_min, limfreq_max, 10)"
   ]
  },
  {
   "cell_type": "code",
   "execution_count": null,
   "id": "bab27216",
   "metadata": {},
   "outputs": [],
   "source": []
  }
 ],
 "metadata": {
  "kernelspec": {
   "display_name": "Python 3 (ipykernel)",
   "language": "python",
   "name": "python3"
  },
  "language_info": {
   "codemirror_mode": {
    "name": "ipython",
    "version": 3
   },
   "file_extension": ".py",
   "mimetype": "text/x-python",
   "name": "python",
   "nbconvert_exporter": "python",
   "pygments_lexer": "ipython3",
   "version": "3.7.0"
  }
 },
 "nbformat": 4,
 "nbformat_minor": 5
}
