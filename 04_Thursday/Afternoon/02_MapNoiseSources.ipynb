{
 "cells": [
  {
   "cell_type": "code",
   "execution_count": null,
   "metadata": {},
   "outputs": [],
   "source": [
    "import os\n",
    "import pandas as pd\n",
    "import matplotlib.pyplot as plt\n",
    "from matplotlib import animation\n",
    "from netCDF4 import Dataset as netcdf_dataset\n",
    "import numpy as np\n",
    "from obspy import UTCDateTime\n",
    "from cartopy import config\n",
    "import cartopy.crs as ccrs\n",
    "import cartopy.feature\n",
    "import os\n",
    "import dynamic_yaml\n",
    "with open(\"config.yml\", 'r') as f:\n",
    "    configs = dynamic_yaml.load(f)\n",
    "video = True\n",
    "import warnings\n",
    "warnings.filterwarnings('ignore')\n",
    "from ww32seismo import *"
   ]
  },
  {
   "cell_type": "code",
   "execution_count": null,
   "metadata": {},
   "outputs": [],
   "source": [
    "work_dir = configs.params.work_dir # If in windows you might need to hardcode it here\n",
    "os.environ[\"CARTOPY_USER_BACKGROUNDS\"] = \"{}/BG\".format(work_dir)"
   ]
  },
  {
   "cell_type": "code",
   "execution_count": null,
   "metadata": {},
   "outputs": [],
   "source": [
    "import cmasher as cmr\n",
    "cmap = cmr.cosmic    # CMasher\n",
    "cmap = plt.get_cmap('cmr.cosmic')   # MPL"
   ]
  },
  {
   "cell_type": "code",
   "execution_count": null,
   "metadata": {},
   "outputs": [],
   "source": [
    "year = configs.download.year\n",
    "p2l_dir = os.path.join(work_dir,\"DATA\", \"P2L\", \"{}\".format(year), \"FIELD_NC\")\n",
    "months = configs.download.months\n",
    "times, p2ls, lats, lons = read_p2ls(year, months, p2l_dir)"
   ]
  },
  {
   "cell_type": "code",
   "execution_count": null,
   "metadata": {},
   "outputs": [],
   "source": [
    "def animate(i):\n",
    "    \"\"\"\n",
    "    Animates the P2L maps to generate a GIF/video\n",
    "    \"\"\"\n",
    "    quad.set_array(p2ls[i])\n",
    "    title = (UTCDateTime(\"1990-01-01\")+times[i]*86400).strftime(\"%Y-%m-%d %Hh\")\n",
    "    ax.title.set_text(title)\n"
   ]
  },
  {
   "cell_type": "markdown",
   "metadata": {},
   "source": [
    "# Global scale map"
   ]
  },
  {
   "cell_type": "markdown",
   "metadata": {},
   "source": [
    "First, edit your work directory in the config.yml"
   ]
  },
  {
   "cell_type": "code",
   "execution_count": null,
   "metadata": {},
   "outputs": [],
   "source": [
    "plt.style.use('dark_background')\n",
    "xmin = -180\n",
    "xmax = 180\n",
    "ymin = -90\n",
    "ymax = 90\n",
    "vmax = 7\n",
    "\n",
    "#cmap = \"magma\"#\"cubehelix_r\"\n",
    "cmap = plt.get_cmap('cmr.cosmic')\n",
    "\n",
    "target_lat = configs.params.station_lat\n",
    "target_lon = configs.params.station_lon\n",
    "\n",
    "\n",
    "\n",
    "fig = plt.figure(figsize=(15, 6))\n",
    "ax = plt.axes(projection=ccrs.Mollweide())\n",
    "ax.coastlines(resolution='50m', linewidth=0.5, zorder=9, color=\"k\")\n",
    "\n",
    "ax.add_feature(cartopy.feature.LAND, edgecolor='k', facecolor=\"#bcbcbc\", zorder = 2)\n",
    "\n",
    "quad = plt.pcolormesh(lons, lats, p2ls[0], transform=ccrs.PlateCarree(),vmin=1e5, vmax=0.2e8, cmap=cmap)\n",
    "cbar_ax = fig.add_axes([0.85, 0.15, 0.025, 0.7])\n",
    "cb = fig.colorbar(quad, cax=cbar_ax)    \n",
    "cb.set_label(\"log10(Pa2 m2 s+1E-12)\")\n",
    "\n",
    "#ax.set_xlim(xmin, xmax)\n",
    "#ax.set_ylim(ymin, ymax)\n",
    "ax.plot(target_lon, target_lat, \"rv\",markersize=12, zorder =10, transform=ccrs.PlateCarree())\n",
    "\n",
    "title = (UTCDateTime(\"1990-01-01\")+times[0]*86400).strftime(\"%Y-%m-%d %Hh\")\n",
    "ax.set_title(title, color=\"w\")\n",
    "plt.tight_layout()\n",
    "#plt.plot()"
   ]
  },
  {
   "cell_type": "code",
   "execution_count": null,
   "metadata": {},
   "outputs": [],
   "source": [
    "#anim = animation.FuncAnimation(fig, animate, interval=100, frames=len(times) - 1)\n",
    "#anim.save(os.path.join(work_dir,'MAPS','world_map.gif'))\n",
    "#plt.show()"
   ]
  },
  {
   "cell_type": "markdown",
   "metadata": {},
   "source": [
    "# European scale"
   ]
  },
  {
   "cell_type": "code",
   "execution_count": null,
   "metadata": {},
   "outputs": [],
   "source": [
    "plt.style.use('dark_background')\n",
    "#cmap = \"magma\"\n",
    "cmap = plt.get_cmap('cmr.cosmic')\n",
    "\n",
    "fig2 = plt.figure(figsize=(13,11))\n",
    "\n",
    "ax = plt.axes(projection=ccrs.LambertConformal(central_longitude=0.0, central_latitude=50.0))\n",
    "ax.coastlines(\"10m\", linewidth=0.5, zorder=9, color=\"k\")\n",
    "quad = plt.pcolormesh(lons, lats, p2ls[0],\n",
    "             transform=ccrs.PlateCarree(),vmin=1e5, vmax=0.5e8, cmap=cmap)\n",
    "target_lat = configs.params.station_lat\n",
    "target_lon = configs.params.station_lon\n",
    "ax.add_feature(cartopy.feature.LAND, edgecolor='k', facecolor=\"#bcbcbc\", zorder = 2)\n",
    "ax.add_feature(cartopy.feature.BORDERS, edgecolor='k', facecolor=\"#bcbcbc\", zorder = 2)\n",
    "ax.plot(target_lon, target_lat, \"rv\",markersize=12, zorder =10, transform=ccrs.PlateCarree())\n",
    "ax.set_extent([-40, 15, 35, 75], crs=ccrs.PlateCarree())\n",
    "\n",
    "cbar_ax = fig2.add_axes([0.85, 0.15, 0.025, 0.7])\n",
    "cb = fig2.colorbar(quad, cax=cbar_ax)    \n",
    "cb.set_label(\"log10(Pa2 m2 s+1E-12)\")\n",
    "\n",
    "title = (UTCDateTime(\"1990-01-01\")+times[0]*86400).strftime(\"%Y-%m-%d %Hh\")\n",
    "ax.set_title(title, color=\"w\")\n",
    "plt.tight_layout()\n",
    "#plt.plot()"
   ]
  },
  {
   "cell_type": "code",
   "execution_count": null,
   "metadata": {},
   "outputs": [],
   "source": [
    "#anim = animation.FuncAnimation(fig2, animate, interval=100, frames=len(times) - 1)\n",
    "#anim.save(os.path.join(work_dir,'MAPS','euro_map.gif'))\n",
    "#plt.show()"
   ]
  },
  {
   "cell_type": "code",
   "execution_count": null,
   "metadata": {},
   "outputs": [],
   "source": []
  }
 ],
 "metadata": {
  "kernelspec": {
   "display_name": "Python 3 (ipykernel)",
   "language": "python",
   "name": "python3"
  },
  "language_info": {
   "codemirror_mode": {
    "name": "ipython",
    "version": 3
   },
   "file_extension": ".py",
   "mimetype": "text/x-python",
   "name": "python",
   "nbconvert_exporter": "python",
   "pygments_lexer": "ipython3",
   "version": "3.10.9"
  }
 },
 "nbformat": 4,
 "nbformat_minor": 4
}
