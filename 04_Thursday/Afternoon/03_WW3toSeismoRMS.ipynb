{
 "cells": [
  {
   "cell_type": "markdown",
   "metadata": {},
   "source": [
    "# Using  WW3 models to generate $\\delta_{rms}$ for any location on land"
   ]
  },
  {
   "cell_type": "code",
   "execution_count": null,
   "metadata": {},
   "outputs": [],
   "source": [
    "from IPython.core.display import display, HTML\n",
    "display(HTML(\"<style>.container { width:80% !important; }</style>\")) \n",
    "from IPython.core.interactiveshell import InteractiveShell\n",
    "InteractiveShell.ast_node_interactivity = \"last_expr\"\n",
    "import os\n",
    "import pandas as pd\n",
    "import matplotlib.pyplot as plt\n",
    "from netCDF4 import Dataset as netcdf_dataset\n",
    "import netCDF4\n",
    "import numpy as np\n",
    "from scipy import interpolate\n",
    "import scipy.integrate\n",
    "from obspy.geodetics.base import gps2dist_azimuth\n",
    "from obspy import UTCDateTime\n",
    "from obspy.geodetics.base import kilometer2degrees, locations2degrees\n",
    "import numpy.matlib\n",
    "\n",
    "\n",
    "import warnings\n",
    "warnings.filterwarnings('ignore')\n",
    "\n",
    "\n",
    "from cartopy import config\n",
    "import cartopy.crs as ccrs\n",
    "os.environ[\"CARTOPY_USER_BACKGROUNDS\"] = \"BG/\"\n",
    "\n",
    "from os.path import normpath\n",
    "from ww32seismo import *"
   ]
  },
  {
   "cell_type": "markdown",
   "metadata": {},
   "source": [
    "# Loading the settings\n",
    "\n",
    "The basic configuration setting are stored on the config.yml file, in working directory.\n",
    "\n",
    "If needed, their values can be hardcoded in the cell below\n",
    "\n",
    "An important parameter to replace is the \"work_dir\" on line 13.\n",
    "\n",
    "We will start with the station UCC in Brussels and then, if time allows it, we will follow with station KNDR in Greece."
   ]
  },
  {
   "cell_type": "code",
   "execution_count": null,
   "metadata": {},
   "outputs": [],
   "source": [
    "import dynamic_yaml\n",
    "with open(\"config.yml\", 'r') as f:\n",
    "    configs = dynamic_yaml.load(f)\n",
    "\n",
    "target = configs.params.station\n",
    "target_lat = configs.params.station_lat\n",
    "target_lon = configs.params.station_lon\n",
    "rhos = configs.params.rhos\n",
    "beta = configs.params.beta\n",
    "Rg = configs.params.Rg\n",
    "Q = configs.params.Q\n",
    "Re = 4.0e7/(2*np.pi)\n",
    "depth_file = configs.files.depth\n"
   ]
  },
  {
   "cell_type": "code",
   "execution_count": null,
   "metadata": {
    "scrolled": true
   },
   "outputs": [],
   "source": [
    "#  needed files: Rayleigh_source.txt, depth file, and at least the models with coastal reflection /!\\\n",
    "dataset = netcdf_dataset(r\"{}\".format(normpath(depth_file)))\n",
    "dpt = pd.DataFrame(np.asarray(dataset.variables[\"dpt\"])[50,:,:], columns=dataset.variables[\"longitude\"], index=dataset.variables[\"latitude\"])\n",
    "dpt[dpt==-32767] *= 0.0\n",
    "dpt[dpt<=0.0] = 0.0\n",
    "\n",
    "if not os.path.isdir(\"DATA\"):\n",
    "    os.mkdir(\"DATA\")\n",
    "if not os.path.isdir(\"FIGURES\"):\n",
    "    os.mkdir(\"FIGURES\")    \n",
    "if not os.path.isdir(\"DATA/Q\"):\n",
    "    os.mkdirs(\"DATA/Q\")"
   ]
  },
  {
   "cell_type": "markdown",
   "metadata": {},
   "source": [
    "# Plot depth and distance"
   ]
  },
  {
   "cell_type": "code",
   "execution_count": null,
   "metadata": {},
   "outputs": [],
   "source": [
    "from ww32seismo import *\n",
    "lats, lons, distance_df = get_distance(configs, dataset, dpt, plot=True)"
   ]
  },
  {
   "cell_type": "code",
   "execution_count": null,
   "metadata": {},
   "outputs": [],
   "source": [
    "df = pd.read_csv(r\"{}\".format(configs.files.noise_source_term), header=None, delim_whitespace=True, index_col=0)\n",
    "df.index *= np.pi\n",
    "df = df.fillna(0.0)\n",
    "C_base = (df[:8]**2).sum(axis=1)\n",
    "C_base.at[C_base.index[-1]+0.01] = 0.0\n",
    "C_base.at[-1.0] = 0.0\n",
    "C_base.at[20.0] = 0.0\n",
    "C_base = C_base.sort_index()\n",
    "\n",
    "Cf = interpolate.interp1d(C_base.index, C_base)"
   ]
  },
  {
   "cell_type": "markdown",
   "metadata": {},
   "source": [
    "# Reading the P2L file"
   ]
  },
  {
   "cell_type": "code",
   "execution_count": null,
   "metadata": {},
   "outputs": [],
   "source": [
    "month = 10\n",
    "beta = configs.params.beta\n",
    "CgR = configs.params.Rg\n",
    "target = configs.params.station\n",
    "factor1, alpha, alpha2 = alpha_distance(configs,Re, distance_df)\n",
    "fn = os.path.join(configs.files.p2l_dir,\"LOPS_WW3-GLOB-30M_2021{}_p2l.nc\".format(month))\n",
    "fname = r\"{}\".format(fn)\n",
    "dataset = netcdf_dataset(fname)\n",
    "lats = dataset.variables['latitude'][:]\n",
    "lons = dataset.variables['longitude'][:]\n",
    "times = dataset.variables['time']\n",
    "times = netCDF4.num2date(times[:],times.units)\n",
    "freqs = dataset.variables['f'][:] # ocean wave frequency"
   ]
  },
  {
   "cell_type": "markdown",
   "metadata": {},
   "source": [
    "The fit of the simulated ground-motion to real observations is affected mainly by the Q value and the reflection coefficient.\n",
    "The reflection is typically paremetrized during the generation of the oceanic model and won't be explored here.\n",
    "The Q value is by far the most important as for high Qs, seismic sources from a vast area of the ocean contribute to the seismic record, while a low Q means that sources are concentrated in the vicinity of the seismic station"
   ]
  },
  {
   "cell_type": "code",
   "execution_count": null,
   "metadata": {},
   "outputs": [],
   "source": [
    "Qf = np.ones(len(freqs)) * Q\n",
    "plt.figure()\n",
    "plt.title(\"Q vs Frequency\")\n",
    "plt.plot(freqs, Qf)\n",
    "plt.xlabel(\"Frequency\")\n",
    "plt.ylabel(\"Q\")\n",
    "plt.show()"
   ]
  },
  {
   "cell_type": "markdown",
   "metadata": {
    "tags": []
   },
   "source": [
    "A constant Q in frequency such as the one above can lead to a poor shape of the synthetic noise spectrum.\n",
    "Following Ardhuin et al. (2011) a better way to use Qs is the following"
   ]
  },
  {
   "cell_type": "code",
   "execution_count": null,
   "metadata": {
    "tags": []
   },
   "outputs": [],
   "source": [
    "period = False\n",
    "Qf=(0.4+0.4*(1-np.tanh(15*(2*freqs-0.14))))*Q\n",
    "plt.figure()\n",
    "plt.title(\"Q vs Frequency from Q = {}\".format(Q))\n",
    "if period:\n",
    "    plt.plot(1/freqs, Qf)\n",
    "    plt.xlabel(\"Period (s)\")\n",
    "else:\n",
    "    plt.plot(freqs, Qf)\n",
    "    plt.xlabel(\"Frequency\")\n",
    "plt.ylabel(\"Q\")\n",
    "plt.show()"
   ]
  },
  {
   "cell_type": "markdown",
   "metadata": {},
   "source": [
    "# Now lets compute the spectra for a range of values of Q\n",
    "\n",
    "The results are saved in the folder \"DATA/Q\" for later use\n",
    "\n",
    "We will plot them in the next notebook"
   ]
  },
  {
   "cell_type": "code",
   "execution_count": null,
   "metadata": {},
   "outputs": [],
   "source": [
    "#Qs = np.linspace(150,500,36)\n",
    "Qs = np.linspace(250,500,6)\n",
    "for Q in Qs:\n",
    "    dfF_fs = get_ww3(configs, Q, 10, lats, lons, Re, dpt, Cf, distance_df, plot=False)"
   ]
  },
  {
   "cell_type": "code",
   "execution_count": null,
   "metadata": {},
   "outputs": [],
   "source": []
  }
 ],
 "metadata": {
  "kernelspec": {
   "display_name": "Python 3 (ipykernel)",
   "language": "python",
   "name": "python3"
  },
  "language_info": {
   "codemirror_mode": {
    "name": "ipython",
    "version": 3
   },
   "file_extension": ".py",
   "mimetype": "text/x-python",
   "name": "python",
   "nbconvert_exporter": "python",
   "pygments_lexer": "ipython3",
   "version": "3.10.9"
  },
  "latex_metadata": {
   "affiliation": "Royal Observatory of Belgium",
   "author": "Thomas Lecocq",
   "template": "better-article",
   "title": "WW3 Model tutorial"
  }
 },
 "nbformat": 4,
 "nbformat_minor": 4
}
