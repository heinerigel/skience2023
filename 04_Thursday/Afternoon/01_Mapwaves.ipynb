{
 "cells": [
  {
   "cell_type": "code",
   "execution_count": null,
   "id": "97bb054a",
   "metadata": {
    "tags": []
   },
   "outputs": [],
   "source": [
    "import xarray as xr\n",
    "import matplotlib.pyplot as plt\n",
    "from matplotlib import pyplot as plt, animation\n",
    "import pandas as pd\n",
    "import os\n",
    "from cartopy import config\n",
    "import cartopy.crs as ccrs\n",
    "import cartopy.feature\n",
    "import numpy as np\n",
    "import dynamic_yaml\n",
    "import warnings\n",
    "warnings.filterwarnings('ignore')\n",
    "from ww32seismo import *\n",
    "with open(\"config.yml\", 'r') as f:\n",
    "    configs = dynamic_yaml.load(f)\n",
    "video = True"
   ]
  },
  {
   "cell_type": "code",
   "execution_count": null,
   "id": "938ee8a0",
   "metadata": {
    "tags": []
   },
   "outputs": [],
   "source": [
    "import cmasher as cmr\n",
    "cmap = cmr.cosmic    # CMasher\n",
    "cmap = plt.get_cmap('cmr.cosmic')   # MPL"
   ]
  },
  {
   "cell_type": "code",
   "execution_count": null,
   "id": "595f41c7",
   "metadata": {
    "tags": []
   },
   "outputs": [],
   "source": [
    "work_dir = configs.params.work_dir\n",
    "os.environ[\"CARTOPY_USER_BACKGROUNDS\"] = os.path.join(work_dir,\"/BG\")"
   ]
  },
  {
   "cell_type": "code",
   "execution_count": null,
   "id": "91896539",
   "metadata": {
    "tags": []
   },
   "outputs": [],
   "source": [
    "year = configs.download.year\n",
    "month = configs.download.months[0]\n",
    "ds  = xr.open_dataset(r\"{}\".format(os.path.join(work_dir,\"DATA\",\"P2L\",\"{}\".format(year),\"FIELD_NC\",\"LOPS_WW3-GLOB-30M_{}{:02d}.nc\".format(year,month))))\n",
    "var_key=\"hs\""
   ]
  },
  {
   "cell_type": "code",
   "execution_count": null,
   "id": "5a646d42",
   "metadata": {
    "tags": []
   },
   "outputs": [],
   "source": [
    "def animate(i):\n",
    "    m.set_array(ds.isel(time=i)[var_key])\n",
    "    ax.title.set_text(pd.to_datetime(ds.isel(time=i).time.time.values).strftime(\"%d/%m/%Y, %H:%M:%S\"))"
   ]
  },
  {
   "cell_type": "markdown",
   "id": "cd257410",
   "metadata": {},
   "source": [
    "# World map of significant wave heights"
   ]
  },
  {
   "cell_type": "markdown",
   "id": "ae781bf7-2552-47ef-b3e2-035e397e47de",
   "metadata": {
    "tags": []
   },
   "source": [
    "First, edit your work directory in the config.yml"
   ]
  },
  {
   "cell_type": "code",
   "execution_count": null,
   "id": "269ae476",
   "metadata": {
    "tags": []
   },
   "outputs": [],
   "source": [
    "plt.style.use('dark_background')\n",
    "xmin = -180\n",
    "xmax = 180\n",
    "ymin = -90\n",
    "ymax = 90\n",
    "vmax = 7\n",
    "\n",
    "\n",
    "cmap = plt.get_cmap('cmr.freeze')\n",
    "\n",
    "target_lat = configs.params.station_lat\n",
    "target_lon = configs.params.station_lon\n",
    "\n",
    "fig = plt.figure(figsize=(15, 6))\n",
    "ax = plt.axes(projection=ccrs.Mollweide())\n",
    "ax.coastlines(resolution='50m', linewidth=0.5, zorder=9, color=\"k\")\n",
    "\n",
    "ax.add_feature(cartopy.feature.LAND, edgecolor='k', facecolor=\"#bcbcbc\", zorder = 2)\n",
    "\n",
    "m = ax.pcolormesh(ds[\"longitude\"], ds[\"latitude\"],  ds.isel(time=0)[var_key], \n",
    "                  shading='nearest', vmin=0, vmax=vmax, cmap=cmap, transform=ccrs.PlateCarree())\n",
    "cbar_ax = fig.add_axes([0.85, 0.15, 0.025, 0.7])\n",
    "cb = fig.colorbar(m, cax=cbar_ax)    \n",
    "cb.set_label(\"Sig. Wave Height [m]\")\n",
    "\n",
    "ax.plot(target_lon, target_lat, \"rv\",markersize=12, zorder =10, transform=ccrs.PlateCarree())\n",
    "\n",
    "title = pd.to_datetime(ds.isel(time=0).time.time.values).strftime(\"%d/%m/%Y, %H:%M:%S\")\n",
    "ax.set_title(title, color=\"w\")\n",
    "plt.tight_layout()\n",
    "#plt.plot()"
   ]
  },
  {
   "cell_type": "code",
   "execution_count": null,
   "id": "51d5082b",
   "metadata": {
    "tags": []
   },
   "outputs": [],
   "source": [
    "#anim = animation.FuncAnimation(fig, animate, interval=100, frames=len(ds.time) - 1)\n",
    "#anim.save(os.path.join(work_dir,'MAPS','world_waves.gif')\n",
    "#plt.show()"
   ]
  },
  {
   "cell_type": "markdown",
   "id": "8215350b",
   "metadata": {},
   "source": [
    "# European map of significant wave heights"
   ]
  },
  {
   "cell_type": "code",
   "execution_count": null,
   "id": "a02793b4",
   "metadata": {
    "tags": []
   },
   "outputs": [],
   "source": [
    "plt.style.use('dark_background')\n",
    "fig2 = plt.figure(figsize=(13,11))\n",
    "\n",
    "ax = plt.axes(projection=ccrs.LambertConformal(central_longitude=0.0, central_latitude=50.0))\n",
    "ax.coastlines(\"10m\", linewidth=0.5, zorder=9, color=\"k\")\n",
    "\n",
    "m = ax.pcolormesh(ds[\"longitude\"], ds[\"latitude\"],  ds.isel(time=0)[var_key], \n",
    "                  shading='nearest', vmin=0, vmax=vmax, cmap=cmap, transform=ccrs.PlateCarree())\n",
    "cbar_ax = fig2.add_axes([0.85, 0.15, 0.025, 0.7])\n",
    "cb = fig2.colorbar(m, cax=cbar_ax)    \n",
    "cb.set_label(\"Sig. Wave Height [m]\")\n",
    "\n",
    "\n",
    "target_lat = configs.params.station_lat\n",
    "target_lon = configs.params.station_lon\n",
    "ax.add_feature(cartopy.feature.LAND, edgecolor='k', facecolor=\"#bcbcbc\", zorder = 2)\n",
    "ax.add_feature(cartopy.feature.BORDERS, edgecolor='k', facecolor=\"#bcbcbc\", zorder = 2)\n",
    "ax.plot(target_lon, target_lat, \"rv\",markersize=12, zorder =10, transform=ccrs.PlateCarree())\n",
    "ax.set_extent([-40, 15, 35, 75], crs=ccrs.PlateCarree())\n",
    "\n",
    "title = pd.to_datetime(ds.isel(time=0).time.time.values).strftime(\"%d/%m/%Y, %H:%M:%S\")\n",
    "ax.set_title(title, color=\"w\")\n",
    "plt.tight_layout()"
   ]
  },
  {
   "cell_type": "code",
   "execution_count": null,
   "id": "a7ea0854",
   "metadata": {
    "tags": []
   },
   "outputs": [],
   "source": [
    "#anim = animation.FuncAnimation(fig2, animate, interval=100, frames=len(ds.time) - 1)\n",
    "#anim.save(os.path.join(work_dir,'MAPS','euro_waves.gif')\n",
    "#plt.show()"
   ]
  }
 ],
 "metadata": {
  "kernelspec": {
   "display_name": "Python 3 (ipykernel)",
   "language": "python",
   "name": "python3"
  },
  "language_info": {
   "codemirror_mode": {
    "name": "ipython",
    "version": 3
   },
   "file_extension": ".py",
   "mimetype": "text/x-python",
   "name": "python",
   "nbconvert_exporter": "python",
   "pygments_lexer": "ipython3",
   "version": "3.10.9"
  }
 },
 "nbformat": 4,
 "nbformat_minor": 5
}
