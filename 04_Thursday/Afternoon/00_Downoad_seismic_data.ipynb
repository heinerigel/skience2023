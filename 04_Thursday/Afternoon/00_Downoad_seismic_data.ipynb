{
 "cells": [
  {
   "cell_type": "code",
   "execution_count": 1,
   "id": "e55d40a6",
   "metadata": {},
   "outputs": [],
   "source": [
    "from obspy.clients.fdsn.mass_downloader import RectangularDomain, \\\n",
    "    Restrictions, MassDownloader\n",
    "from obspy import UTCDateTime\n",
    "import os"
   ]
  },
  {
   "cell_type": "markdown",
   "id": "5d3003e0",
   "metadata": {},
   "source": [
    "# Edit the station information and, if necessary, the providers"
   ]
  },
  {
   "cell_type": "code",
   "execution_count": 12,
   "id": "b6ca1177",
   "metadata": {},
   "outputs": [],
   "source": [
    "sta = \"KNDR\"\n",
    "net = \"HC\"\n",
    "cha = \"HHZ\"\n",
    "start = UTCDateTime(2021, 10, 1)\n",
    "end = UTCDateTime(2021, 11, 1)\n",
    "clients = [\"NOA\"]"
   ]
  },
  {
   "cell_type": "markdown",
   "id": "79a15bde",
   "metadata": {},
   "source": [
    "# Change the rectangular domain around your station to match the station of your choice"
   ]
  },
  {
   "cell_type": "code",
   "execution_count": 13,
   "id": "f6ed58e9",
   "metadata": {},
   "outputs": [],
   "source": [
    "domain = RectangularDomain(minlatitude=15, maxlatitude=40,\n",
    "                           minlongitude=20, maxlongitude=60)\n",
    "\n",
    "restrictions = Restrictions(\n",
    "    starttime=start,\n",
    "    endtime=end,\n",
    "    chunklength_in_sec=86400,\n",
    "    network=net, station=sta, location=\"*\", channel=cha,\n",
    "    reject_channels_with_gaps=False,\n",
    "    minimum_length=0.0,\n",
    "    minimum_interstation_distance_in_m=100.0)"
   ]
  },
  {
   "cell_type": "code",
   "execution_count": 8,
   "id": "68139377",
   "metadata": {},
   "outputs": [],
   "source": [
    "if not os.path.isdir(\"DATA/MSEED\"):\n",
    "    os.mkdirs(\"DATA/MSEED\")"
   ]
  },
  {
   "cell_type": "markdown",
   "id": "4c4fc10e",
   "metadata": {},
   "source": [
    "# Download the stations"
   ]
  },
  {
   "cell_type": "code",
   "execution_count": 14,
   "id": "fd7725f8",
   "metadata": {},
   "outputs": [
    {
     "name": "stderr",
     "output_type": "stream",
     "text": [
      "[2023-02-21 14:23:03,867] - obspy.clients.fdsn.mass_downloader - INFO: Initializing FDSN client(s) for NOA.\n",
      "[2023-02-21 14:23:03,882] - obspy.clients.fdsn.mass_downloader - INFO: Successfully initialized 1 client(s): NOA.\n",
      "[2023-02-21 14:23:03,883] - obspy.clients.fdsn.mass_downloader - INFO: Total acquired or preexisting stations: 0\n",
      "[2023-02-21 14:23:03,884] - obspy.clients.fdsn.mass_downloader - INFO: Client 'NOA' - Requesting unreliable availability.\n",
      "[2023-02-21 14:23:04,117] - obspy.clients.fdsn.mass_downloader - INFO: Client 'NOA' - Successfully requested availability (0.23 seconds)\n",
      "[2023-02-21 14:23:04,121] - obspy.clients.fdsn.mass_downloader - INFO: Client 'NOA' - Found 1 stations (1 channels).\n",
      "[2023-02-21 14:23:04,122] - obspy.clients.fdsn.mass_downloader - INFO: Client 'NOA' - Will attempt to download data from 1 stations.\n",
      "[2023-02-21 14:23:04,124] - obspy.clients.fdsn.mass_downloader - INFO: Client 'NOA' - Status for 31 time intervals/channels before downloading: NEEDS_DOWNLOADING\n",
      "[2023-02-21 14:23:24,111] - obspy.clients.fdsn.mass_downloader - INFO: Client 'NOA' - Successfully downloaded 1 channels (of 1)\n",
      "[2023-02-21 14:23:24,738] - obspy.clients.fdsn.mass_downloader - INFO: Client 'NOA' - Successfully downloaded 1 channels (of 1)\n",
      "[2023-02-21 14:23:25,048] - obspy.clients.fdsn.mass_downloader - INFO: Client 'NOA' - Successfully downloaded 1 channels (of 1)\n",
      "[2023-02-21 14:23:41,710] - obspy.clients.fdsn.mass_downloader - INFO: Client 'NOA' - Successfully downloaded 1 channels (of 1)\n",
      "[2023-02-21 14:23:42,675] - obspy.clients.fdsn.mass_downloader - INFO: Client 'NOA' - Successfully downloaded 1 channels (of 1)\n",
      "[2023-02-21 14:23:42,936] - obspy.clients.fdsn.mass_downloader - INFO: Client 'NOA' - Successfully downloaded 1 channels (of 1)\n",
      "[2023-02-21 14:23:56,770] - obspy.clients.fdsn.mass_downloader - INFO: Client 'NOA' - Successfully downloaded 1 channels (of 1)\n",
      "[2023-02-21 14:24:00,303] - obspy.clients.fdsn.mass_downloader - INFO: Client 'NOA' - Successfully downloaded 1 channels (of 1)\n",
      "[2023-02-21 14:24:00,766] - obspy.clients.fdsn.mass_downloader - INFO: Client 'NOA' - Successfully downloaded 1 channels (of 1)\n",
      "[2023-02-21 14:24:03,130] - obspy.clients.fdsn.mass_downloader - INFO: Client 'NOA' - Successfully downloaded 1 channels (of 1)\n",
      "[2023-02-21 14:24:21,521] - obspy.clients.fdsn.mass_downloader - INFO: Client 'NOA' - Successfully downloaded 1 channels (of 1)\n",
      "[2023-02-21 14:24:21,536] - obspy.clients.fdsn.mass_downloader - INFO: Client 'NOA' - Successfully downloaded 1 channels (of 1)\n",
      "[2023-02-21 14:24:21,987] - obspy.clients.fdsn.mass_downloader - INFO: Client 'NOA' - Successfully downloaded 1 channels (of 1)\n",
      "[2023-02-21 14:24:40,293] - obspy.clients.fdsn.mass_downloader - INFO: Client 'NOA' - Successfully downloaded 1 channels (of 1)\n",
      "[2023-02-21 14:24:40,415] - obspy.clients.fdsn.mass_downloader - INFO: Client 'NOA' - Successfully downloaded 1 channels (of 1)\n",
      "[2023-02-21 14:24:40,447] - obspy.clients.fdsn.mass_downloader - INFO: Client 'NOA' - Successfully downloaded 1 channels (of 1)\n",
      "[2023-02-21 14:24:59,697] - obspy.clients.fdsn.mass_downloader - INFO: Client 'NOA' - Successfully downloaded 1 channels (of 1)\n",
      "[2023-02-21 14:24:59,823] - obspy.clients.fdsn.mass_downloader - INFO: Client 'NOA' - Successfully downloaded 1 channels (of 1)\n",
      "[2023-02-21 14:25:00,279] - obspy.clients.fdsn.mass_downloader - INFO: Client 'NOA' - Successfully downloaded 1 channels (of 1)\n",
      "[2023-02-21 14:25:19,323] - obspy.clients.fdsn.mass_downloader - INFO: Client 'NOA' - Successfully downloaded 1 channels (of 1)\n",
      "[2023-02-21 14:25:19,430] - obspy.clients.fdsn.mass_downloader - INFO: Client 'NOA' - Successfully downloaded 1 channels (of 1)\n",
      "[2023-02-21 14:25:19,824] - obspy.clients.fdsn.mass_downloader - INFO: Client 'NOA' - Successfully downloaded 1 channels (of 1)\n",
      "[2023-02-21 14:25:37,525] - obspy.clients.fdsn.mass_downloader - INFO: Client 'NOA' - Successfully downloaded 1 channels (of 1)\n",
      "[2023-02-21 14:25:37,773] - obspy.clients.fdsn.mass_downloader - INFO: Client 'NOA' - Successfully downloaded 1 channels (of 1)\n",
      "[2023-02-21 14:25:37,947] - obspy.clients.fdsn.mass_downloader - INFO: Client 'NOA' - Successfully downloaded 1 channels (of 1)\n",
      "[2023-02-21 14:25:58,412] - obspy.clients.fdsn.mass_downloader - INFO: Client 'NOA' - Successfully downloaded 1 channels (of 1)\n",
      "[2023-02-21 14:25:59,491] - obspy.clients.fdsn.mass_downloader - INFO: Client 'NOA' - Successfully downloaded 1 channels (of 1)\n",
      "[2023-02-21 14:25:59,584] - obspy.clients.fdsn.mass_downloader - INFO: Client 'NOA' - Successfully downloaded 1 channels (of 1)\n",
      "[2023-02-21 14:26:12,436] - obspy.clients.fdsn.mass_downloader - INFO: Client 'NOA' - Successfully downloaded 1 channels (of 1)\n",
      "[2023-02-21 14:26:12,672] - obspy.clients.fdsn.mass_downloader - INFO: Client 'NOA' - Successfully downloaded 1 channels (of 1)\n",
      "[2023-02-21 14:26:16,897] - obspy.clients.fdsn.mass_downloader - INFO: Client 'NOA' - Successfully downloaded 1 channels (of 1)\n",
      "[2023-02-21 14:26:16,898] - obspy.clients.fdsn.mass_downloader - INFO: Client 'NOA' - Launching basic QC checks...\n",
      "[2023-02-21 14:26:17,968] - obspy.clients.fdsn.mass_downloader - INFO: Client 'NOA' - Downloaded 409.5 MB [2175.24 KB/sec] of data, 0.0 MB of which were discarded afterwards.\n",
      "[2023-02-21 14:26:17,969] - obspy.clients.fdsn.mass_downloader - INFO: Client 'NOA' - Status for 31 time intervals/channels after downloading: DOWNLOADED\n",
      "[2023-02-21 14:26:24,578] - obspy.clients.fdsn.mass_downloader - INFO: Client 'NOA' - Successfully downloaded 'DATA/MSEED/HC.KNDR.xml'.\n",
      "[2023-02-21 14:26:24,585] - obspy.clients.fdsn.mass_downloader - INFO: Client 'NOA' - Downloaded 1 station files [0.0 MB] in 6.6 seconds [2.62 KB/sec].\n",
      "[2023-02-21 14:26:24,591] - obspy.clients.fdsn.mass_downloader - INFO: ============================== Final report\n",
      "[2023-02-21 14:26:24,592] - obspy.clients.fdsn.mass_downloader - INFO: 0 MiniSEED files [0.0 MB] already existed.\n",
      "[2023-02-21 14:26:24,592] - obspy.clients.fdsn.mass_downloader - INFO: 0 StationXML files [0.0 MB] already existed.\n",
      "[2023-02-21 14:26:24,593] - obspy.clients.fdsn.mass_downloader - INFO: Client 'NOA' - Acquired 31 MiniSEED files [409.5 MB].\n",
      "[2023-02-21 14:26:24,594] - obspy.clients.fdsn.mass_downloader - INFO: Client 'NOA' - Acquired 1 StationXML files [0.0 MB].\n",
      "[2023-02-21 14:26:24,595] - obspy.clients.fdsn.mass_downloader - INFO: Downloaded 409.5 MB in total.\n"
     ]
    },
    {
     "data": {
      "text/plain": [
       "{'NOA': <obspy.clients.fdsn.mass_downloader.download_helpers.ClientDownloadHelper at 0x7f0e254876d8>}"
      ]
     },
     "execution_count": 14,
     "metadata": {},
     "output_type": "execute_result"
    }
   ],
   "source": [
    "mdl = MassDownloader(providers=clients)\n",
    "mdl.download(domain, restrictions, mseed_storage=\"DATA/MSEED\",\n",
    "             stationxml_storage=\"DATA/MSEED\")"
   ]
  },
  {
   "cell_type": "code",
   "execution_count": null,
   "id": "3f1ccee9",
   "metadata": {},
   "outputs": [],
   "source": []
  }
 ],
 "metadata": {
  "kernelspec": {
   "display_name": "Python 3",
   "language": "python",
   "name": "python3"
  },
  "language_info": {
   "codemirror_mode": {
    "name": "ipython",
    "version": 3
   },
   "file_extension": ".py",
   "mimetype": "text/x-python",
   "name": "python",
   "nbconvert_exporter": "python",
   "pygments_lexer": "ipython3",
   "version": "3.7.3"
  }
 },
 "nbformat": 4,
 "nbformat_minor": 5
}
