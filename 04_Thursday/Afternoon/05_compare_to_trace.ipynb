{
 "cells": [
  {
   "cell_type": "code",
   "execution_count": null,
   "id": "73fd2c93",
   "metadata": {
    "tags": []
   },
   "outputs": [],
   "source": [
    "import pandas as pd\n",
    "import matplotlib.pylab as plt\n",
    "import numpy as np\n",
    "from scipy import interpolate\n",
    "import scipy.integrate\n",
    "from ww32seismo import *\n",
    "from os.path import normpath"
   ]
  },
  {
   "cell_type": "markdown",
   "id": "c9a9882b",
   "metadata": {},
   "source": [
    "# Read the observed displacement RMS from the observed data and remove the earthquakes"
   ]
  },
  {
   "cell_type": "code",
   "execution_count": null,
   "id": "a09d18bd",
   "metadata": {
    "tags": []
   },
   "outputs": [],
   "source": [
    "import dynamic_yaml\n",
    "with open(\"config.yml\", 'r') as f:\n",
    "    configs = dynamic_yaml.load(f)\n",
    "\n",
    "sta = configs.params.station\n",
    "net = configs.params.network\n",
    "\n",
    "seis = pd.read_pickle(normpath(\"DATA/TEST{}.{}..HHZ.pkl\".format(net, sta))) # Read observed data\n",
    "seis.columns = [\"Observed\"] # Get same index as model\n",
    "seis = seis.resample(\"180T\").mean()# Same sampling as P2L model\n",
    "idx = seis>(seis.std())\n",
    "seis[idx]=np.NaN"
   ]
  },
  {
   "cell_type": "code",
   "execution_count": null,
   "id": "d39bf4d0",
   "metadata": {
    "tags": []
   },
   "outputs": [],
   "source": [
    "stations = [sta]\n",
    "misfits = []\n",
    "corrs = []\n",
    "\n",
    "for sta in stations:\n",
    "    Qs = np.linspace(150,500,36)\n",
    "    #read DataFrame from pickle file\n",
    "    for Q in Qs:\n",
    "        print(int(Q))\n",
    "        df= pd.read_pickle(normpath(\"DATA/Q/{}_Q{}.pkl\".format(sta, int(Q))))\n",
    "        \n",
    "        plot_spec(df, sta, Q)\n",
    "        \n",
    "        integ = np.sqrt(scipy.integrate.trapz(df.fillna(0), df.index, axis=0))\n",
    "        model = pd.DataFrame(integ, index = df.columns)\n",
    "        model.columns = [\"Modeled\"]\n",
    "        pair = seis.merge(model, left_index=True, right_index=True)\n",
    "        \n",
    "        pair.plot(title=\"{}, Q={}\".format(sta, int(Q)))\n",
    "        \n",
    "        misfit = get_misfit(pair[\"Observed\"], pair[\"Modeled\"])\n",
    "        misfits.append(misfit)\n",
    "        corr = get_corr(pair[\"Observed\"], pair[\"Modeled\"])\n",
    "        corrs.append(corr)"
   ]
  },
  {
   "cell_type": "markdown",
   "id": "abbf1c27",
   "metadata": {},
   "source": [
    "# Look for the best Q for the station"
   ]
  },
  {
   "cell_type": "code",
   "execution_count": null,
   "id": "c560f7c0",
   "metadata": {},
   "outputs": [],
   "source": [
    "fig = plt.figure()\n",
    "plt.scatter(Qs,misfits, c=corrs, cmap=\"plasma\")\n",
    "plt.colorbar().set_label(\"Correlation coefficient\")\n",
    "plt.xlabel(\"Q\")\n",
    "plt.ylabel(\"misfit\")\n",
    "plt.show()"
   ]
  },
  {
   "cell_type": "code",
   "execution_count": null,
   "id": "a37b6ff3",
   "metadata": {},
   "outputs": [],
   "source": []
  }
 ],
 "metadata": {
  "kernelspec": {
   "display_name": "Python 3 (ipykernel)",
   "language": "python",
   "name": "python3"
  },
  "language_info": {
   "codemirror_mode": {
    "name": "ipython",
    "version": 3
   },
   "file_extension": ".py",
   "mimetype": "text/x-python",
   "name": "python",
   "nbconvert_exporter": "python",
   "pygments_lexer": "ipython3",
   "version": "3.10.9"
  }
 },
 "nbformat": 4,
 "nbformat_minor": 5
}
