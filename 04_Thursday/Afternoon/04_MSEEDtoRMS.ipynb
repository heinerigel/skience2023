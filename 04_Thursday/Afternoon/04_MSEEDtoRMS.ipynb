{
 "cells": [
  {
   "cell_type": "code",
   "execution_count": null,
   "id": "a77129e9",
   "metadata": {
    "tags": []
   },
   "outputs": [],
   "source": [
    "import datetime\n",
    "import os\n",
    "from glob import glob\n",
    "\n",
    "import matplotlib\n",
    "import matplotlib.pyplot as plt\n",
    "import matplotlib.ticker as ticker\n",
    "import matplotlib.patheffects as pe\n",
    "import numpy as np\n",
    "import pandas as pd\n",
    "import tqdm\n",
    "import warnings\n",
    "\n",
    "from obspy import UTCDateTime, read, read_inventory\n",
    "from obspy.clients.fdsn import Client\n",
    "from obspy.clients.fdsn.client import FDSNNoDataException\n",
    "from obspy.signal import PPSD\n",
    "from ww32seismo import *\n",
    "from os.path import normpath"
   ]
  },
  {
   "cell_type": "markdown",
   "id": "2e5674cb",
   "metadata": {},
   "source": [
    "# Setting things up\n",
    "This assumes that you already downloaded the mseed data and the station .xml fil"
   ]
  },
  {
   "cell_type": "code",
   "execution_count": null,
   "id": "86331fd6",
   "metadata": {
    "tags": []
   },
   "outputs": [],
   "source": [
    "import dynamic_yaml\n",
    "with open(\"config.yml\", 'r') as f:\n",
    "    configs = dynamic_yaml.load(f)\n",
    "\n",
    "station = configs.params.station\n",
    "net = configs.params.network\n",
    "comp = \"HHZ\"\n",
    "start = UTCDateTime(\"2021-10-01\")\n",
    "end = UTCDateTime(\"2021-10-31\")\n",
    "datelist = pd.date_range(start.datetime, min(end, UTCDateTime()).datetime, freq=\"D\")\n",
    "#resp = read_inventory(os.path.join(\"DATA\", \"MSEED\", \"*{}*.xml\".format(station)))\n",
    "mseedid = \"{}.{}..{}\".format(net,station,comp)"
   ]
  },
  {
   "cell_type": "markdown",
   "id": "2dbe4eb8",
   "metadata": {},
   "source": [
    "# Loading the data and saving the psds in .npz format"
   ]
  },
  {
   "cell_type": "markdown",
   "id": "55c169d1",
   "metadata": {},
   "source": [
    "This should only process 2 missing days of data"
   ]
  },
  {
   "cell_type": "code",
   "execution_count": null,
   "id": "41699f0a",
   "metadata": {
    "tags": []
   },
   "outputs": [],
   "source": [
    "pbar = tqdm.tqdm(datelist)\n",
    "force_reprocess = False\n",
    "\n",
    "for day in pbar:\n",
    "    datestr = day.strftime(\"%Y-%m-%d\")\n",
    "    pbar.set_description(\"Processing %s\" %datestr)\n",
    "    fn = \"{}.{}*.{}__{}*\".format(net, station, comp,day.strftime(\"%Y%m%dT\"))\n",
    "    fn_in = glob(os.path.join(\"DATA\", \"MSEED\", fn))\n",
    "    if fn_in:\n",
    "        fn_in = fn_in[0]\n",
    "    else:\n",
    "        continue\n",
    "    \n",
    "    stall = read(fn_in, headonly=True)\n",
    "    for mseedid in list(set([tr.id for tr in stall])):\n",
    "        fn_out = \"{}_{}_{}.npz\".format(station, datestr, mseedid)\n",
    "        fn_out = os.path.join(\"DATA\", \"NPZ\", fn_out)\n",
    "        if os.path.isfile(fn_out) and not force_reprocess:\n",
    "            continue\n",
    "        st = read(fn_in, sourcename=mseedid)\n",
    "        st.attach_response(resp)\n",
    "        ppsd = PPSD(st[0].stats, metadata=resp,\n",
    "                    ppsd_length=1800, overlap=0.0,\n",
    "                    period_smoothing_width_octaves=0.025,\n",
    "                    period_step_octaves=0.0125,\n",
    "                    period_limits=(0.008, 50),\n",
    "                    db_bins=(-200, 20, 0.25))\n",
    "        with warnings.catch_warnings():\n",
    "            warnings.simplefilter(\"ignore\")\n",
    "            ppsd.add(st)\n",
    "        ppsd.save_npz(fn_out)\n",
    "        del st, ppsd\n",
    "    del stall"
   ]
  },
  {
   "cell_type": "code",
   "execution_count": null,
   "id": "42ad62c3",
   "metadata": {
    "tags": []
   },
   "outputs": [],
   "source": [
    "ppsds = {}\n",
    "pbar = tqdm.tqdm(datelist)\n",
    "for day in pbar:\n",
    "    datestr = day.strftime(\"%Y-%m-%d\")\n",
    "    \n",
    "    fn_pattern = \"{}_{}_*.npz\".format(station, datestr)\n",
    "    fn_pattern = glob(os.path.join(\"DATA\", \"NPZ\", fn_pattern))\n",
    "    pbar.set_description(\"Reading %s\" % fn_pattern)\n",
    "    \n",
    "    if fn_pattern:\n",
    "        fn = fn_pattern[0]\n",
    "    else:\n",
    "        continue    \n",
    "    mseedid = fn.replace(\".npz\", \"\").split(\"_\")[-1]\n",
    "    if mseedid not in ppsds:\n",
    "        ppsds[mseedid] = PPSD.load_npz(fn, allow_pickle=True)\n",
    "    else:\n",
    "        with warnings.catch_warnings():\n",
    "            warnings.simplefilter(\"ignore\")\n",
    "            ppsds[mseedid].add_npz(fn, allow_pickle=True)"
   ]
  },
  {
   "cell_type": "markdown",
   "id": "ef51ddd1",
   "metadata": {},
   "source": [
    "# Plotting the spectrogram"
   ]
  },
  {
   "cell_type": "markdown",
   "id": "e6ef6735",
   "metadata": {},
   "source": [
    "This might take a while, skip it if you feel like your laptop is a patato"
   ]
  },
  {
   "cell_type": "code",
   "execution_count": null,
   "id": "71553568",
   "metadata": {
    "tags": []
   },
   "outputs": [],
   "source": [
    "plt.rcParams['figure.figsize'] = (16,6)\n",
    "plt.rcParams['axes.facecolor'] = \"w\"\n",
    "[ppsd.plot_spectrogram(clim=(-160,-90)) for mseedid, ppsd in ppsds.items()]"
   ]
  },
  {
   "cell_type": "markdown",
   "id": "6dc30bfa",
   "metadata": {},
   "source": [
    "# Saving the displacement RMS for the frequency range of interest into a .pkl file"
   ]
  },
  {
   "cell_type": "code",
   "execution_count": null,
   "id": "0f383b1d",
   "metadata": {
    "tags": []
   },
   "outputs": [],
   "source": [
    "# This is the frequency range of interest in the model's results\n",
    "freqs = [(0.08,0.6)]\n",
    "\n",
    "displacement_RMS = {}\n",
    "for mseedid, ppsd in tqdm.tqdm(ppsds.items()):\n",
    "    ind_times = pd.DatetimeIndex([d.datetime for d in ppsd.current_times_used])\n",
    "    data = pd.DataFrame(ppsd.psd_values, index=ind_times, columns=1./ppsd.period_bin_centers)\n",
    "    data = data.sort_index(axis=1)\n",
    "    displacement_RMS[mseedid] = df_rms(data, freqs, output=\"DISP\")\n",
    "    displacement_RMS[mseedid].to_pickle(\"DATA/%s.pkl\" % mseedid)"
   ]
  },
  {
   "cell_type": "code",
   "execution_count": null,
   "id": "86b734bd-a101-4f77-8a1b-1776e98b5815",
   "metadata": {},
   "outputs": [],
   "source": []
  }
 ],
 "metadata": {
  "kernelspec": {
   "display_name": "Python 3 (ipykernel)",
   "language": "python",
   "name": "python3"
  },
  "language_info": {
   "codemirror_mode": {
    "name": "ipython",
    "version": 3
   },
   "file_extension": ".py",
   "mimetype": "text/x-python",
   "name": "python",
   "nbconvert_exporter": "python",
   "pygments_lexer": "ipython3",
   "version": "3.10.9"
  }
 },
 "nbformat": 4,
 "nbformat_minor": 5
}
