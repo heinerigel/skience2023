{
 "cells": [
  {
   "cell_type": "code",
   "execution_count": 1,
   "id": "adc37f82",
   "metadata": {},
   "outputs": [],
   "source": [
    "import ww32seismo"
   ]
  },
  {
   "cell_type": "code",
   "execution_count": 2,
   "id": "4891de89",
   "metadata": {
    "collapsed": true,
    "jupyter": {
     "outputs_hidden": true
    }
   },
   "outputs": [
    {
     "name": "stdout",
     "output_type": "stream",
     "text": [
      "ifremer/ww3/PROJECT/SISMO/GLOBAL_ER20C_NOREF_14\n"
     ]
    },
    {
     "name": "stderr",
     "output_type": "stream",
     "text": [
      "Downloading ifremer/ww3/PROJECT/SISMO/GLOBAL_ER20C_NOREF_14: 0it [00:00, ?it/s]"
     ]
    },
    {
     "name": "stdout",
     "output_type": "stream",
     "text": [
      "ifremer/ww3/PROJECT/SISMO/GLOBAL_ER20C_REF124_13\n"
     ]
    },
    {
     "name": "stderr",
     "output_type": "stream",
     "text": [
      "\n",
      "Downloading ifremer/ww3/PROJECT/SISMO/GLOBAL_ER20C_REF124_13: 0it [00:00, ?it/s]\n"
     ]
    }
   ],
   "source": [
    "ww32seismo.download_p2l()"
   ]
  },
  {
   "cell_type": "code",
   "execution_count": null,
   "id": "ac71643e",
   "metadata": {},
   "outputs": [],
   "source": []
  }
 ],
 "metadata": {
  "kernelspec": {
   "display_name": "Python 3",
   "language": "python",
   "name": "python3"
  },
  "language_info": {
   "codemirror_mode": {
    "name": "ipython",
    "version": 3
   },
   "file_extension": ".py",
   "mimetype": "text/x-python",
   "name": "python",
   "nbconvert_exporter": "python",
   "pygments_lexer": "ipython3",
   "version": "3.7.3"
  }
 },
 "nbformat": 4,
 "nbformat_minor": 5
}
