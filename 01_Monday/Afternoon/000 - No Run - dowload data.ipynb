{
 "cells": [
  {
   "cell_type": "code",
   "execution_count": null,
   "id": "4991dcfc",
   "metadata": {
    "ExecuteTime": {
     "end_time": "2023-02-26T06:45:36.679212Z",
     "start_time": "2023-02-26T06:45:33.330341Z"
    }
   },
   "outputs": [],
   "source": [
    "from obspy.clients.fdsn.mass_downloader import RectangularDomain, \\\n",
    "    Restrictions, MassDownloader\n",
    "from obspy import UTCDateTime\n",
    "import os\n"
   ]
  },
  {
   "cell_type": "code",
   "execution_count": null,
   "id": "bda8c7ab",
   "metadata": {
    "ExecuteTime": {
     "end_time": "2023-02-26T07:28:44.777017Z",
     "start_time": "2023-02-26T06:47:05.484091Z"
    }
   },
   "outputs": [],
   "source": [
    "\n",
    "stations = [\"BE.MEM\", \"GR.AHRW\"]\n",
    "cha = \"HH*\"\n",
    "start = UTCDateTime(2021, 6, 1)\n",
    "end = UTCDateTime(2021, 8, 1)\n",
    "clients = [\"ODC\",\"BGR\"]\n",
    "if not os.path.isdir(\"DATA/MSEED\"):\n",
    "    os.makedirs(\"DATA/MSEED\")\n",
    "domain = RectangularDomain(minlatitude=40, maxlatitude=60,\n",
    "                           minlongitude=4, maxlongitude=10)\n",
    "for sta in stations:\n",
    "    net, sta = sta.split(\".\")\n",
    "    restrictions = Restrictions(\n",
    "        starttime=start,\n",
    "        endtime=end,\n",
    "        chunklength_in_sec=86400,\n",
    "        network=net, station=sta, location=\"*\", channel=cha,\n",
    "        reject_channels_with_gaps=False,\n",
    "        minimum_length=0.0,\n",
    "        minimum_interstation_distance_in_m=100.0)\n",
    "    mdl = MassDownloader(providers=clients)\n",
    "    mdl.download(domain, restrictions, mseed_storage=\"DATA/MSEED\",\n",
    "                 stationxml_storage=\"DATA/RESPONSES\")"
   ]
  },
  {
   "cell_type": "code",
   "execution_count": null,
   "id": "6126c401",
   "metadata": {},
   "outputs": [],
   "source": []
  }
 ],
 "metadata": {
  "kernelspec": {
   "display_name": "Python 3 (ipykernel)",
   "language": "python",
   "name": "python3"
  },
  "language_info": {
   "codemirror_mode": {
    "name": "ipython",
    "version": 3
   },
   "file_extension": ".py",
   "mimetype": "text/x-python",
   "name": "python",
   "nbconvert_exporter": "python",
   "pygments_lexer": "ipython3",
   "version": "3.10.9"
  }
 },
 "nbformat": 4,
 "nbformat_minor": 5
}
