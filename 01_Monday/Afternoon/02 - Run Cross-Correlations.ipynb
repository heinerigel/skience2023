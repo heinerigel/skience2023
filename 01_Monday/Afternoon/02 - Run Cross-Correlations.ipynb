{
 "cells": [
  {
   "cell_type": "code",
   "execution_count": null,
   "id": "4fb9730b",
   "metadata": {
    "ExecuteTime": {
     "end_time": "2023-02-26T09:34:20.972330Z",
     "start_time": "2023-02-26T09:34:20.940400Z"
    }
   },
   "outputs": [],
   "source": [
    "%matplotlib inline\n",
    "import matplotlib.pyplot as plt\n",
    "import glob\n",
    "import os\n",
    "from obspy import read, UTCDateTime, read_inventory\n",
    "from obspy.signal import PPSD\n",
    "import warnings\n",
    "import pandas as pd\n",
    "import numpy as np\n",
    "from pandas.plotting import register_matplotlib_converters\n",
    "register_matplotlib_converters()\n",
    "plt.style.use(\"ggplot\")\n",
    "\n",
    "from msnoise.api import connect, get_results, build_movstack_datelist, get_params, get_t_axis, get_results_all"
   ]
  },
  {
   "cell_type": "code",
   "execution_count": null,
   "id": "d3e3d4d2",
   "metadata": {
    "ExecuteTime": {
     "end_time": "2023-02-26T08:17:53.897517Z",
     "start_time": "2023-02-26T08:17:34.634019Z"
    }
   },
   "outputs": [],
   "source": [
    "! msnoise db execute \"insert into filters (ref, low, mwcs_low, high, mwcs_high, mwcs_wlen, mwcs_step, used) values (1, 0.1, 0.1, 1.0, 1.0, 12.0, 4.0, 1)\"\n",
    "! msnoise db execute \"insert into filters (ref, low, mwcs_low, high, mwcs_high, mwcs_wlen, mwcs_step, used) values (2, 1, 1, 2, 2, 12.0, 4.0, 1)\"\n",
    "! msnoise db execute \"insert into filters (ref, low, mwcs_low, high, mwcs_high, mwcs_wlen, mwcs_step, used) values (3, 2, 2, 4, 4, 12.0, 4.0, 1)\"\n",
    "! msnoise db execute \"insert into filters (ref, low, mwcs_low, high, mwcs_high, mwcs_wlen, mwcs_step, used) values (4, 4, 4, 8, 8, 2.0, 1.0, 1)\""
   ]
  },
  {
   "cell_type": "code",
   "execution_count": null,
   "id": "73c8aa8b",
   "metadata": {
    "ExecuteTime": {
     "end_time": "2023-02-26T08:18:23.629824Z",
     "start_time": "2023-02-26T08:18:18.757686Z"
    }
   },
   "outputs": [],
   "source": [
    "! msnoise config set resampling_method=Decimate"
   ]
  },
  {
   "cell_type": "code",
   "execution_count": null,
   "id": "f4c9b997",
   "metadata": {
    "ExecuteTime": {
     "end_time": "2023-02-26T09:07:35.469608Z",
     "start_time": "2023-02-26T09:07:35.449655Z"
    }
   },
   "outputs": [],
   "source": [
    "# ! msnoise -t 3 -d 5 -v cc compute_cc"
   ]
  },
  {
   "cell_type": "code",
   "execution_count": null,
   "id": "fd04675a",
   "metadata": {
    "ExecuteTime": {
     "end_time": "2023-02-26T09:39:43.483442Z",
     "start_time": "2023-02-26T09:39:41.529893Z"
    }
   },
   "outputs": [],
   "source": [
    "# connect to the database\n",
    "db = connect()\n",
    "\n",
    "# Obtain a list of dates between ``start_date`` and ``enddate``\n",
    "start, end, datelist = build_movstack_datelist(db)\n",
    "\n",
    "# Get the list of parameters from the DB:\n",
    "params = get_params(db)\n",
    "\n",
    "# Get the time axis for plotting the CCF:\n",
    "taxis = get_t_axis(db)\n",
    "\n",
    "filter_id = 1\n",
    "mov_stack = 1\n",
    "\n",
    "# Get the results for two station, filter id=1, ZZ component, mov_stack=1 and the results as a 2D array:\n",
    "n, ccfs = get_results(db, \"BE.MEM.--\", \"GR.AHRW.--\", filter_id, \"ZZ\", datelist,\n",
    "                      mov_stack, format=\"matrix\", params=params)\n",
    "\n",
    "# Convert to a pandas DataFrame object for convenience, and drop empty rows:\n",
    "df = pd.DataFrame(ccfs, index=pd.DatetimeIndex(datelist), columns=taxis)\n",
    "df = df.dropna()\n",
    "\n",
    "# Define the 99% percentile of the data, for visualisation purposes:\n",
    "clim = df.mean(axis=\"index\").quantile(0.999)\n",
    "\n",
    "fig, ax = plt.subplots(figsize=(12,8))\n",
    "plt.pcolormesh(df.columns, df.index.to_pydatetime(), df.values,\n",
    "               vmin=-clim, vmax=clim, rasterized=True, cmap=\"RdBu\")\n",
    "plt.colorbar()\n",
    "plt.title(\"Interferogram\")\n",
    "plt.xlabel(\"Lag Time (s)\")\n",
    "plt.ylim(df.index[0],df.index[-1])\n",
    "plt.xlim(df.columns[0], df.columns[-1])\n",
    "plt.subplots_adjust(left=0.15)"
   ]
  },
  {
   "cell_type": "markdown",
   "id": "92fe9ad9",
   "metadata": {},
   "source": [
    "Compute the reference stack and plot vs distance:"
   ]
  },
  {
   "cell_type": "code",
   "execution_count": null,
   "id": "2b4857cb",
   "metadata": {},
   "outputs": [],
   "source": [
    "! msnoise config sync\n",
    "! msnoise cc stack -r"
   ]
  },
  {
   "cell_type": "code",
   "execution_count": null,
   "id": "5bd86daf",
   "metadata": {},
   "outputs": [],
   "source": [
    "!msnoise cc plot distance -f 1"
   ]
  },
  {
   "cell_type": "markdown",
   "id": "75632b5f",
   "metadata": {},
   "source": [
    "reset the STACK jobs and run the mov_stack"
   ]
  },
  {
   "cell_type": "code",
   "execution_count": null,
   "id": "d78ab49c",
   "metadata": {},
   "outputs": [],
   "source": [
    "! msnoise reset STACK\n",
    "! msnoise config set mov_stack=1,2,5\n",
    "! msnoise cc stack -m\n"
   ]
  },
  {
   "cell_type": "markdown",
   "id": "176a9ddb",
   "metadata": {},
   "source": [
    "compute the mwcs & dtt"
   ]
  },
  {
   "cell_type": "code",
   "execution_count": null,
   "id": "2d62dae3",
   "metadata": {},
   "outputs": [],
   "source": [
    "! msnoise cc dvv compute_mwcs\n",
    "! msnoise cc dvv compute_dtt\n"
   ]
  },
  {
   "cell_type": "markdown",
   "id": "a5ee68e6",
   "metadata": {},
   "source": [
    "plot the final results\n",
    "\n",
    "examples:\n",
    "\n",
    "- msnoise cc dvv plot dvv -f 1\n",
    "- msnoise cc dvv plot dvv -f 2 -m 5"
   ]
  },
  {
   "cell_type": "code",
   "execution_count": null,
   "id": "8c111500",
   "metadata": {},
   "outputs": [],
   "source": []
  },
  {
   "cell_type": "markdown",
   "id": "d656de8e",
   "metadata": {},
   "source": [
    "## Bonus: recompute only the last week before the flood - Cross-Components\n"
   ]
  },
  {
   "cell_type": "code",
   "execution_count": null,
   "id": "a08583b4",
   "metadata": {
    "ExecuteTime": {
     "end_time": "2023-02-26T09:26:49.358570Z",
     "start_time": "2023-02-26T09:26:15.649535Z"
    }
   },
   "outputs": [],
   "source": [
    "! msnoise config set components_to_compute_single_station=EN,EZ,NZ\n",
    "! msnoise config set components_to_compute=\"\"\n",
    "! msnoise config set keep_all=Y\n",
    "! msnoise reset DA\n",
    "! msnoise new_jobs\n",
    "! msnoise db execute \"update jobs set flag='D' where jobtype='CC'\"\n",
    "! msnoise db execute \"update jobs set flag='T' where jobtype='CC' and day between '2021-07-06' and '2021-07-15'\""
   ]
  },
  {
   "cell_type": "code",
   "execution_count": null,
   "id": "b03d7bbf",
   "metadata": {
    "ExecuteTime": {
     "end_time": "2023-02-26T09:28:07.293257Z",
     "start_time": "2023-02-26T09:28:02.834139Z"
    }
   },
   "outputs": [],
   "source": [
    "! msnoise info -j"
   ]
  },
  {
   "cell_type": "markdown",
   "id": "e92caee9",
   "metadata": {},
   "source": [
    "then run msnoise cc compute_cc again ! This time, it'll generate H5 files containing the individual windows of CCFs"
   ]
  },
  {
   "cell_type": "code",
   "execution_count": null,
   "id": "4f7c8f18",
   "metadata": {
    "ExecuteTime": {
     "end_time": "2023-02-26T09:41:27.237346Z",
     "start_time": "2023-02-26T09:41:22.914959Z"
    }
   },
   "outputs": [],
   "source": [
    "\n",
    "\n",
    "# connect to the database\n",
    "db = connect()\n",
    "\n",
    "# Obtain a list of dates between ``start_date`` and ``enddate``\n",
    "start, end, datelist = build_movstack_datelist(db)\n",
    "\n",
    "# Get the list of parameters from the DB:\n",
    "params = get_params(db)\n",
    "\n",
    "# Get the time axis for plotting the CCF:\n",
    "taxis = get_t_axis(db)\n",
    "\n",
    "station = \"GR.AHRW.--\"\n",
    "filter_id = 4\n",
    "components = \"EZ\"\n",
    "\n",
    "# Get the results for two station, filter id=1, ZZ component, mov_stack=1 and the results as a 2D array:\n",
    "ccfs = get_results_all(db, station, station, filter_id, components, datelist)\n",
    "print(ccfs.head())\n",
    "# Convert to a pandas DataFrame object for convenience, and drop empty rows:\n",
    "# df = pd.DataFrame(ccfs, index=pd.DatetimeIndex(datelist), columns=taxis)\n",
    "df = ccfs.dropna()\n",
    "\n",
    "# Define the 99% percentile of the data, for visualisation purposes:\n",
    "clim = df.mean(axis=\"index\").quantile(0.9999)\n",
    "\n",
    "fig, ax = plt.subplots(figsize=(12,8))\n",
    "plt.pcolormesh(df.columns, df.index.to_pydatetime(), df.values,\n",
    "               vmin=-clim, vmax=clim, rasterized=True, cmap=\"RdBu\")\n",
    "plt.colorbar()\n",
    "plt.title(\"Interferogram\")\n",
    "plt.xlabel(\"Lag Time (s)\")\n",
    "plt.ylim(df.index[0],df.index[-1])\n",
    "# plt.xlim(df.columns[0], df.columns[-1])\n",
    "plt.xlim(-10,10)\n",
    "plt.subplots_adjust(left=0.15)"
   ]
  },
  {
   "cell_type": "code",
   "execution_count": null,
   "id": "fa7a520a",
   "metadata": {
    "ExecuteTime": {
     "end_time": "2023-02-26T09:41:29.660869Z",
     "start_time": "2023-02-26T09:41:27.248316Z"
    }
   },
   "outputs": [],
   "source": [
    "df = df.loc[\"2021-07-13\":]\n",
    "fig, ax = plt.subplots(figsize=(12,8))\n",
    "plt.pcolormesh(df.columns, df.index.to_pydatetime(), df.values,\n",
    "               vmin=-clim, vmax=clim, rasterized=True, cmap=\"RdBu\")\n",
    "plt.colorbar()\n",
    "plt.title(\"Interferogram\")\n",
    "plt.xlabel(\"Lag Time (s)\")\n",
    "plt.ylim(df.index[0],df.index[-1])\n",
    "# plt.xlim(df.columns[0], df.columns[-1])\n",
    "plt.xlim(-5,5)\n",
    "plt.subplots_adjust(left=0.15)"
   ]
  },
  {
   "cell_type": "code",
   "execution_count": null,
   "id": "71fab1c5",
   "metadata": {},
   "outputs": [],
   "source": []
  }
 ],
 "metadata": {
  "kernelspec": {
   "display_name": "Python 3 (ipykernel)",
   "language": "python",
   "name": "python3"
  },
  "language_info": {
   "codemirror_mode": {
    "name": "ipython",
    "version": 3
   },
   "file_extension": ".py",
   "mimetype": "text/x-python",
   "name": "python",
   "nbconvert_exporter": "python",
   "pygments_lexer": "ipython3",
   "version": "3.10.9"
  }
 },
 "nbformat": 4,
 "nbformat_minor": 5
}