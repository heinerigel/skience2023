{
 "cells": [
  {
   "cell_type": "code",
   "execution_count": null,
   "id": "ec68056b",
   "metadata": {
    "ExecuteTime": {
     "end_time": "2023-02-26T08:08:50.573779Z",
     "start_time": "2023-02-26T08:08:50.553831Z"
    }
   },
   "outputs": [],
   "source": [
    "%matplotlib inline\n",
    "import matplotlib.pyplot as plt\n",
    "import glob\n",
    "import os\n",
    "from obspy import read, UTCDateTime, read_inventory\n",
    "from obspy.signal import PPSD\n",
    "import warnings\n",
    "import pandas as pd"
   ]
  },
  {
   "cell_type": "markdown",
   "id": "0afe48af",
   "metadata": {},
   "source": [
    "## Poor man's RMS\n",
    "\n",
    "We will first simply, for each station-component, compute its file size vs time:"
   ]
  },
  {
   "cell_type": "code",
   "execution_count": null,
   "id": "f7ec9380",
   "metadata": {
    "ExecuteTime": {
     "end_time": "2023-02-26T07:58:34.608269Z",
     "start_time": "2023-02-26T07:58:34.592311Z"
    }
   },
   "outputs": [],
   "source": [
    "stations = [\"BE.MEM\", \"GR.AHRW\"]\n",
    "channels = [\"HHZ\", \"HHE\", \"HHN\"]\n"
   ]
  },
  {
   "cell_type": "code",
   "execution_count": null,
   "id": "6270d6b0",
   "metadata": {
    "ExecuteTime": {
     "end_time": "2023-02-26T07:58:41.923710Z",
     "start_time": "2023-02-26T07:58:34.636194Z"
    }
   },
   "outputs": [],
   "source": [
    "\n",
    "for station in stations:\n",
    "    for channel in channels:\n",
    "        files = sorted(glob.glob(\"DATA/MSEED/{}.*.{}*\".format(station, channel)))\n",
    "        if not len(files):\n",
    "            continue\n",
    "        days = []\n",
    "        sizes = []\n",
    "        for file in files:\n",
    "            st = read(file, headlonly=True)\n",
    "            \n",
    "            sizes.append(os.path.getsize(file) / 1024)\n",
    "            days.append((st[0].stats.starttime + 3600).date)\n",
    "        plt.scatter(days, sizes, label=\"{}.{}\".format(station, channel))\n",
    "        break\n",
    "    break\n",
    "plt.legend(loc=4, ncols=2)\n",
    "plt.show()"
   ]
  },
  {
   "cell_type": "markdown",
   "id": "045b994c",
   "metadata": {
    "ExecuteTime": {
     "end_time": "2023-02-26T07:01:35.035361Z",
     "start_time": "2023-02-26T07:01:35.016410Z"
    }
   },
   "source": [
    "## Computing PSDs using ObsPy\n",
    "\n",
    "For this, we will first check that the instrument responses information are correct:"
   ]
  },
  {
   "cell_type": "code",
   "execution_count": null,
   "id": "4298a94d",
   "metadata": {
    "ExecuteTime": {
     "end_time": "2023-02-26T07:05:32.527122Z",
     "start_time": "2023-02-26T07:05:32.488226Z"
    }
   },
   "outputs": [],
   "source": [
    "inv = read_inventory(\"DATA/RESPONSES/*\")\n",
    "print(inv)"
   ]
  },
  {
   "cell_type": "code",
   "execution_count": null,
   "id": "db4b12c9",
   "metadata": {
    "ExecuteTime": {
     "end_time": "2023-02-26T07:05:49.167294Z",
     "start_time": "2023-02-26T07:05:45.702432Z"
    }
   },
   "outputs": [],
   "source": [
    "inv.plot_response(min_freq=0.01);"
   ]
  },
  {
   "cell_type": "markdown",
   "id": "6fa904fd",
   "metadata": {},
   "source": [
    "Next step, let's make sure we are able to compute a PSD for each of the two stations:\n",
    "\n",
    "Reference: https://docs.obspy.org/tutorial/code_snippets/probabilistic_power_spectral_density.html"
   ]
  },
  {
   "cell_type": "code",
   "execution_count": null,
   "id": "04f8f1de",
   "metadata": {
    "ExecuteTime": {
     "end_time": "2023-02-26T07:09:04.658635Z",
     "start_time": "2023-02-26T07:08:47.862663Z"
    }
   },
   "outputs": [],
   "source": [
    "for station in stations:\n",
    "    for channel in channels:\n",
    "        firstfile = sorted(glob.glob(\"DATA/MSEED/{}.*.{}*\".format(station, channel)))[0]\n",
    "        st = read(firstfile)\n",
    "        ppsd = PPSD(st[0].stats, metadata=inv)\n",
    "        ppsd.add(st)\n",
    "        ppsd.plot()\n",
    "        break\n",
    "    break"
   ]
  },
  {
   "cell_type": "markdown",
   "id": "0b779c89",
   "metadata": {},
   "source": [
    "We can also play with the parameters to obtain more \"nervous\" spectra:\n",
    "\n",
    "Reference:\n",
    "Robert E. Anthony, Adam T. Ringler, David C. Wilson, Manochehr Bahavar, Keith D. Koper; How Processing Methodologies Can Distort and Bias Power Spectral Density Estimates of Seismic Background Noise. Seismological Research Letters 2020;; 91 (3): 1694–1706. doi: https://doi.org/10.1785/0220190212"
   ]
  },
  {
   "cell_type": "code",
   "execution_count": null,
   "id": "cecc0023",
   "metadata": {
    "ExecuteTime": {
     "end_time": "2023-02-26T07:13:50.308495Z",
     "start_time": "2023-02-26T07:13:30.772051Z"
    }
   },
   "outputs": [],
   "source": [
    "for station in stations:\n",
    "    for channel in channels:\n",
    "        firstfile = sorted(glob.glob(\"DATA/MSEED/{}.*.{}*\".format(station, channel)))[0]\n",
    "        st = read(firstfile)\n",
    "        ppsd = PPSD(st[0].stats, metadata=inv,\n",
    "                    period_smoothing_width_octaves=0.125,\n",
    "                   period_step_octaves=0.0125,\n",
    "                   period_limits=(0.01,100))\n",
    "        ppsd.add(st)\n",
    "        ppsd.plot()\n",
    "        break\n",
    "    break"
   ]
  },
  {
   "cell_type": "markdown",
   "id": "1a43838b",
   "metadata": {
    "ExecuteTime": {
     "end_time": "2023-02-26T07:14:24.581430Z",
     "start_time": "2023-02-26T07:14:24.565472Z"
    }
   },
   "source": [
    "# Compute PSDs using MSNoise\n",
    "\n",
    "For this, we will set up our first MSNoise project, in this very folder, either in the command line, or using ! commands here in the jupyter notebook:\n",
    "\n",
    "## first create the db.ini file and the SQLite database locally:"
   ]
  },
  {
   "cell_type": "code",
   "execution_count": null,
   "id": "9dec8d80",
   "metadata": {
    "ExecuteTime": {
     "end_time": "2023-02-26T07:22:07.338436Z",
     "start_time": "2023-02-26T07:22:01.879180Z"
    }
   },
   "outputs": [],
   "source": [
    "! msnoise db init --tech=1"
   ]
  },
  {
   "cell_type": "markdown",
   "id": "26b494ad",
   "metadata": {},
   "source": [
    "## Output of MSNoise default's configuration"
   ]
  },
  {
   "cell_type": "code",
   "execution_count": null,
   "id": "7abc9702",
   "metadata": {
    "ExecuteTime": {
     "end_time": "2023-02-26T07:22:50.340746Z",
     "start_time": "2023-02-26T07:22:45.347698Z"
    },
    "scrolled": false
   },
   "outputs": [],
   "source": [
    "! msnoise info"
   ]
  },
  {
   "cell_type": "markdown",
   "id": "31d62699",
   "metadata": {
    "ExecuteTime": {
     "end_time": "2023-02-26T07:18:37.432944Z",
     "start_time": "2023-02-26T07:18:37.412995Z"
    }
   },
   "source": [
    "## Then, define some of the msnoise parameters:\n",
    "In the console, you can start `msnoise admin` and this will create a python webserver that listens on http://localhost:5000 (or http://127.0.0.1:5000)\n",
    "\n",
    "We will define:\n",
    "\n",
    "* ``data_folder`` = ``./DATA/MSEED``\n",
    "* ``response_path`` = ``./DATA/RESPONSES``\n",
    "* ``startdate`` = ``2021-06-01``\n",
    "* ``enddate`` = ``2021-08-01``\n",
    "\n",
    "There are thus three ways to set parameters in msnoise:\n",
    "* using the console: ``msnoise config set data_folder=./DATA/MSEED``\n",
    "* using the admin interface\n",
    "* using the API: ``from msnoise.api import * ; db = connect ; update_config(db, \"data_folder\", \"./DATA/MSEED\")``"
   ]
  },
  {
   "cell_type": "code",
   "execution_count": null,
   "id": "57dc4be9",
   "metadata": {
    "ExecuteTime": {
     "end_time": "2023-02-26T08:02:29.513282Z",
     "start_time": "2023-02-26T08:02:08.858823Z"
    }
   },
   "outputs": [],
   "source": [
    "! msnoise config set data_folder=./DATA/MSEED\n",
    "! msnoise config set response_path=./DATA/RESPONSES\n",
    "! msnoise config set startdate=2021-06-01\n",
    "! msnoise config set enddate=2021-08-01"
   ]
  },
  {
   "cell_type": "markdown",
   "id": "6a90ceef",
   "metadata": {},
   "source": [
    "## First things first, MSNoise Scan Archive\n",
    "\n",
    "MSNoise works by building and keeping a data_availability table, containing basic metadata. This table is populated by the ``scan_archive`` command, which here we have to use in it's \"lazy\" version since our archive is not SDS structured:\n"
   ]
  },
  {
   "cell_type": "code",
   "execution_count": null,
   "id": "f45137d4",
   "metadata": {
    "ExecuteTime": {
     "end_time": "2023-02-26T07:29:57.944440Z",
     "start_time": "2023-02-26T07:29:24.992544Z"
    }
   },
   "outputs": [],
   "source": [
    "! msnoise scan_archive --init --path ./DATA/MSEED"
   ]
  },
  {
   "cell_type": "markdown",
   "id": "a44db1b6",
   "metadata": {},
   "source": [
    "## Update Station table\n",
    "\n",
    "Since we scanned the archive first, we need now to \"populate\" the station table:"
   ]
  },
  {
   "cell_type": "code",
   "execution_count": null,
   "id": "0a3cb02b",
   "metadata": {
    "ExecuteTime": {
     "end_time": "2023-02-26T07:33:40.333288Z",
     "start_time": "2023-02-26T07:33:31.299786Z"
    }
   },
   "outputs": [],
   "source": [
    "! msnoise populate --fromDA\n",
    "! msnoise db update_loc_chan"
   ]
  },
  {
   "cell_type": "markdown",
   "id": "e0875b80",
   "metadata": {},
   "source": [
    "## Plotting data_availability"
   ]
  },
  {
   "cell_type": "code",
   "execution_count": null,
   "id": "d6a408b4",
   "metadata": {
    "ExecuteTime": {
     "end_time": "2023-02-26T07:34:07.053824Z",
     "start_time": "2023-02-26T07:34:03.878429Z"
    }
   },
   "outputs": [],
   "source": [
    "from msnoise.plots.data_availability import main\n",
    "main(chan=\"HH?\", show=True)\n"
   ]
  },
  {
   "cell_type": "markdown",
   "id": "8ce84ae6",
   "metadata": {
    "ExecuteTime": {
     "end_time": "2023-02-26T07:32:32.101745Z",
     "start_time": "2023-02-26T07:32:31.954143Z"
    }
   },
   "source": [
    "## Define jobs to do\n",
    "\n",
    "MSNoise is job-based: each day is \"one job\", and this is true for any type of jobs (CC, QC, etc), you can list them by:"
   ]
  },
  {
   "cell_type": "code",
   "execution_count": null,
   "id": "c307c90c",
   "metadata": {
    "ExecuteTime": {
     "end_time": "2023-02-26T07:35:23.609613Z",
     "start_time": "2023-02-26T07:35:19.323898Z"
    }
   },
   "outputs": [],
   "source": [
    "! msnoise info -j"
   ]
  },
  {
   "cell_type": "markdown",
   "id": "46c6409b",
   "metadata": {},
   "source": [
    "We have files in the data_availability table that are marked \"N\"ew, let's use them to define jobs, and list them again:"
   ]
  },
  {
   "cell_type": "code",
   "execution_count": null,
   "id": "a3bf08e0",
   "metadata": {
    "ExecuteTime": {
     "end_time": "2023-02-26T07:36:29.952962Z",
     "start_time": "2023-02-26T07:36:19.367176Z"
    },
    "scrolled": false
   },
   "outputs": [],
   "source": [
    "! msnoise new_jobs --init\n",
    "! msnoise info -j"
   ]
  },
  {
   "cell_type": "markdown",
   "id": "99aabd92",
   "metadata": {},
   "source": [
    "Compute the PSDs ! It's better to run this in a console, so we can keep the interactivity here, but the following command will work (it doens't output the debug info!)"
   ]
  },
  {
   "cell_type": "code",
   "execution_count": null,
   "id": "0a122619",
   "metadata": {
    "ExecuteTime": {
     "end_time": "2023-02-26T07:44:58.863594Z",
     "start_time": "2023-02-26T07:44:58.846639Z"
    }
   },
   "outputs": [],
   "source": [
    "#! msnoise -t 2 -d 5 qc compute_psd"
   ]
  },
  {
   "cell_type": "markdown",
   "id": "0f581521",
   "metadata": {},
   "source": [
    "and plot the result:"
   ]
  },
  {
   "cell_type": "code",
   "execution_count": null,
   "id": "2a75b7db",
   "metadata": {
    "ExecuteTime": {
     "end_time": "2023-02-26T08:04:13.942141Z",
     "start_time": "2023-02-26T08:04:01.368574Z"
    },
    "scrolled": false
   },
   "outputs": [],
   "source": [
    "from msnoise.plots.ppsd import main\n",
    "with warnings.catch_warnings():\n",
    "    warnings.simplefilter(\"ignore\")\n",
    "    main(\"BE\",\"MEM\", \"--\", \"HHZ\", period_lim=(0.01, 100), show=True);\n",
    "    main(\"GR\",\"AHRW\", \"--\", \"HHZ\", period_lim=(0.01, 100), show=True);"
   ]
  },
  {
   "cell_type": "markdown",
   "id": "b38e360c",
   "metadata": {},
   "source": [
    "What about the jobs ?"
   ]
  },
  {
   "cell_type": "code",
   "execution_count": null,
   "id": "64f5e164",
   "metadata": {
    "ExecuteTime": {
     "end_time": "2023-02-26T08:05:32.379138Z",
     "start_time": "2023-02-26T08:05:26.897498Z"
    }
   },
   "outputs": [],
   "source": [
    "! msnoise info -j"
   ]
  },
  {
   "cell_type": "markdown",
   "id": "ace1af25",
   "metadata": {},
   "source": [
    "We have PSD2HDF and then HDF2RM jobs to do, let's to them in the console (command commented here for reference):"
   ]
  },
  {
   "cell_type": "code",
   "execution_count": null,
   "id": "5a87b565",
   "metadata": {
    "ExecuteTime": {
     "end_time": "2023-02-26T08:06:47.147299Z",
     "start_time": "2023-02-26T08:06:47.127389Z"
    }
   },
   "outputs": [],
   "source": [
    "# ! msnoise qc psd_to_hdf\n",
    "# ! msnoise qc hdf_to_rms"
   ]
  },
  {
   "cell_type": "markdown",
   "id": "379cb036",
   "metadata": {},
   "source": [
    "and finally, we can export the RMS dataframes:"
   ]
  },
  {
   "cell_type": "code",
   "execution_count": null,
   "id": "0fe3ca5f",
   "metadata": {
    "ExecuteTime": {
     "end_time": "2023-02-26T08:07:29.047582Z",
     "start_time": "2023-02-26T08:07:29.022838Z"
    }
   },
   "outputs": [],
   "source": [
    "# ! msnoise qc export_rms"
   ]
  },
  {
   "cell_type": "markdown",
   "id": "be4ed1b2",
   "metadata": {},
   "source": [
    "and check their content:"
   ]
  },
  {
   "cell_type": "code",
   "execution_count": null,
   "id": "3d705109",
   "metadata": {
    "ExecuteTime": {
     "end_time": "2023-02-26T08:13:04.676058Z",
     "start_time": "2023-02-26T08:12:55.331736Z"
    }
   },
   "outputs": [],
   "source": [
    "for sta in [\"BE.MEM.--.HHZ\", \"GR.AHRW.--.HHZ\"]:\n",
    "    df = pd.read_csv(os.path.join(\"PSD\",\"RMS\",\"DISP\",\"{}.csv\".format(sta)), index_col=0, parse_dates=True)\n",
    "    df = df.resample(\"1H\").mean()\n",
    "    print(df.head())\n",
    "    df.plot(subplots=True)\n",
    "    plt.suptitle(sta)"
   ]
  },
  {
   "cell_type": "markdown",
   "id": "d19cfdcb",
   "metadata": {},
   "source": [
    "Let's look at the last week before the flood until the day:"
   ]
  },
  {
   "cell_type": "code",
   "execution_count": null,
   "id": "8c770a23",
   "metadata": {
    "ExecuteTime": {
     "end_time": "2023-02-26T08:15:11.973013Z",
     "start_time": "2023-02-26T08:15:08.017415Z"
    }
   },
   "outputs": [],
   "source": [
    "for sta in [\"BE.MEM.--.HHZ\", \"GR.AHRW.--.HHZ\"]:\n",
    "    df = pd.read_csv(os.path.join(\"PSD\",\"RMS\",\"DISP\",\"{}.csv\".format(sta)), index_col=0, parse_dates=True)\n",
    "    df = df.resample(\"1H\").mean()\n",
    "    df = df.loc[\"2021-07-07\":\"2021-07-15 00:00\"]\n",
    "    print(df.head())\n",
    "    df.plot(subplots=True)\n",
    "    plt.suptitle(sta)"
   ]
  },
  {
   "cell_type": "code",
   "execution_count": null,
   "id": "29c2b026",
   "metadata": {},
   "outputs": [],
   "source": []
  }
 ],
 "metadata": {
  "kernelspec": {
   "display_name": "Python 3 (ipykernel)",
   "language": "python",
   "name": "python3"
  },
  "language_info": {
   "codemirror_mode": {
    "name": "ipython",
    "version": 3
   },
   "file_extension": ".py",
   "mimetype": "text/x-python",
   "name": "python",
   "nbconvert_exporter": "python",
   "pygments_lexer": "ipython3",
   "version": "3.10.9"
  }
 },
 "nbformat": 4,
 "nbformat_minor": 5
}